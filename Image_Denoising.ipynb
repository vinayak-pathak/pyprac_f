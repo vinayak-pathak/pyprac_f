{
  "nbformat": 4,
  "nbformat_minor": 0,
  "metadata": {
    "colab": {
      "name": "Image Denoising.ipynb",
      "provenance": [],
      "include_colab_link": true
    },
    "kernelspec": {
      "name": "python3",
      "display_name": "Python 3"
    },
    "accelerator": "TPU"
  },
  "cells": [
    {
      "cell_type": "markdown",
      "metadata": {
        "id": "view-in-github",
        "colab_type": "text"
      },
      "source": [
        "<a href=\"https://colab.research.google.com/github/vinayak-pathak/pyprac_f/blob/master/Image_Denoising.ipynb\" target=\"_parent\"><img src=\"https://colab.research.google.com/assets/colab-badge.svg\" alt=\"Open In Colab\"/></a>"
      ]
    },
    {
      "cell_type": "code",
      "metadata": {
        "id": "_A0PEhIgd-nB",
        "colab_type": "code",
        "colab": {}
      },
      "source": [
        "!pip3 install tensorflow_datasets\n",
        "!pip3 install tensorflow-gpu==2.0.0-rc0\n",
        "!nvidia-smi"
      ],
      "execution_count": null,
      "outputs": []
    },
    {
      "cell_type": "code",
      "metadata": {
        "id": "Af2H6HXYBY8o",
        "colab_type": "code",
        "colab": {}
      },
      "source": [
        "import tensorflow as tf\n",
        "import tensorflow_datasets as tfds\n",
        "import matplotlib.pyplot as plt\n",
        "import numpy as np"
      ],
      "execution_count": null,
      "outputs": []
    },
    {
      "cell_type": "code",
      "metadata": {
        "id": "LWpzXvUbBczi",
        "colab_type": "code",
        "colab": {}
      },
      "source": [
        "ds_corrupted = tfds.load('mnist_corrupted/shot_noise', shuffle_files=False, split=tfds.Split.TRAIN)\n",
        "ds_identity = tfds.load('mnist_corrupted/identity', shuffle_files=False, split=tfds.Split.TRAIN)\n",
        "ds_corrupted = ds_corrupted.map(lambda x: x['image'])\n",
        "ds_identity = ds_identity.map(lambda x: x['image'])\n",
        "ds = tf.data.Dataset.zip((ds_corrupted, ds_identity))"
      ],
      "execution_count": null,
      "outputs": []
    },
    {
      "cell_type": "code",
      "metadata": {
        "id": "xIB62e_wI20V",
        "colab_type": "code",
        "colab": {
          "base_uri": "https://localhost:8080/",
          "height": 205
        },
        "outputId": "667f3a6c-b572-49a8-e1b0-8dfd92a41d13"
      },
      "source": [
        "BATCH_SIZE = 128\n",
        "\n",
        "for x,y in ds: break\n",
        "fig, axes = plt.subplots(1,2)\n",
        "axes[0].imshow(np.squeeze(x.numpy()), cmap='gray')\n",
        "axes[1].imshow(np.squeeze(y.numpy()), cmap='gray')\n",
        "ds = ds.batch(BATCH_SIZE).repeat()"
      ],
      "execution_count": null,
      "outputs": [
        {
          "output_type": "display_data",
          "data": {
            "image/png": "[encoded data removed]",
            "text/plain": [
              "<Figure size 432x288 with 2 Axes>"
            ]
          },
          "metadata": {
            "tags": []
          }
        }
      ]
    },
    {
      "cell_type": "code",
      "metadata": {
        "id": "9_Us8aJ9JIcl",
        "colab_type": "code",
        "colab": {}
      },
      "source": [
        "# Fully Connected Model\n",
        "inputs = tf.keras.layers.Input(shape=(28,28,1))\n",
        "x = tf.keras.layers.Flatten()(inputs)\n",
        "x = tf.keras.layers.Dense(784, activation='relu')(x)\n",
        "x = tf.keras.layers.Dense(784, activation='relu')(x)\n",
        "x = tf.keras.layers.Reshape((28, 28, 1))(x)\n",
        "model = tf.keras.Model(inputs, x)\n",
        "model.compile('adam', loss='mse')'\n",
        "model.fit(ds, steps_per_epoch=50000//128, epochs=20)"
      ],
      "execution_count": null,
      "outputs": []
    },
    {
      "cell_type": "code",
      "metadata": {
        "id": "_1P1ZLfVLtVV",
        "colab_type": "code",
        "colab": {
          "base_uri": "https://localhost:8080/",
          "height": 781
        },
        "outputId": "42298437-79a1-4267-bf57-e0c7f58baae1"
      },
      "source": [
        "# Convolutional\n",
        "inputs = tf.keras.layers.Input(shape=(28,28,1))\n",
        "x = tf.keras.layers.Conv2D(4, (3,3), activation='relu', padding='same')(inputs)\n",
        "x = tf.keras.layers.Conv2D(4, (3,3), activation='relu', padding='same')(x)\n",
        "x = tf.keras.layers.Conv2D(1, (3,3), activation='relu', padding='same')(x)\n",
        "model = tf.keras.Model(inputs, x)\n",
        "model.compile('adam', loss='mse')\n",
        "model.fit(ds, steps_per_epoch=50000//128, epochs=20)"
      ],
      "execution_count": null,
      "outputs": [
        {
          "output_type": "stream",
          "text": [
            "Train for 390 steps\n",
            "Epoch 1/20\n",
            "390/390 [==============================] - 53s 137ms/step - loss: 1380.4002\n",
            "Epoch 2/20\n",
            "390/390 [==============================] - 53s 135ms/step - loss: 462.2428\n",
            "Epoch 3/20\n",
            "390/390 [==============================] - 53s 135ms/step - loss: 424.8525\n",
            "Epoch 4/20\n",
            "390/390 [==============================] - 53s 135ms/step - loss: 414.5865\n",
            "Epoch 5/20\n",
            "390/390 [==============================] - 52s 134ms/step - loss: 410.0008\n",
            "Epoch 6/20\n",
            "390/390 [==============================] - 53s 136ms/step - loss: 406.0983\n",
            "Epoch 7/20\n",
            "390/390 [==============================] - 53s 135ms/step - loss: 404.4110\n",
            "Epoch 8/20\n",
            "390/390 [==============================] - 52s 134ms/step - loss: 401.9670\n",
            "Epoch 9/20\n",
            "390/390 [==============================] - 52s 134ms/step - loss: 400.6245\n",
            "Epoch 10/20\n",
            "390/390 [==============================] - 52s 134ms/step - loss: 399.1064\n",
            "Epoch 11/20\n",
            "390/390 [==============================] - 52s 134ms/step - loss: 397.9744\n",
            "Epoch 12/20\n",
            "390/390 [==============================] - 53s 135ms/step - loss: 396.5576\n",
            "Epoch 13/20\n",
            "390/390 [==============================] - 52s 134ms/step - loss: 395.3409\n",
            "Epoch 14/20\n",
            "390/390 [==============================] - 53s 135ms/step - loss: 393.5463\n",
            "Epoch 15/20\n",
            "390/390 [==============================] - 53s 135ms/step - loss: 392.9821\n",
            "Epoch 16/20\n",
            "390/390 [==============================] - 52s 134ms/step - loss: 392.0953\n",
            "Epoch 17/20\n",
            "390/390 [==============================] - 53s 135ms/step - loss: 391.2625\n",
            "Epoch 18/20\n",
            "390/390 [==============================] - 52s 134ms/step - loss: 390.6801\n",
            "Epoch 19/20\n",
            "390/390 [==============================] - 53s 135ms/step - loss: 390.0291\n",
            "Epoch 20/20\n",
            "390/390 [==============================] - 52s 135ms/step - loss: 388.7080\n"
          ],
          "name": "stdout"
        },
        {
          "output_type": "execute_result",
          "data": {
            "text/plain": [
              "<tensorflow.python.keras.callbacks.History at 0x7f7f22027160>"
            ]
          },
          "metadata": {
            "tags": []
          },
          "execution_count": 7
        }
      ]
    },
    {
      "cell_type": "code",
      "metadata": {
        "id": "rE__LA4GXrEM",
        "colab_type": "code",
        "colab": {
          "base_uri": "https://localhost:8080/",
          "height": 168
        },
        "outputId": "ef504462-736c-4453-c78a-5095f1bcc598"
      },
      "source": [
        "for x,y in ds: break\n",
        "fig, axes = plt.subplots(1,3)\n",
        "axes[0].imshow(np.squeeze(x.numpy()[0]), cmap='gray')\n",
        "axes[1].imshow(np.squeeze(y.numpy()[0]), cmap='gray')\n",
        "axes[2].imshow(np.squeeze(model.predict(x.numpy().astype('float32'))[0]), cmap='gray')\n"
      ],
      "execution_count": null,
      "outputs": [
        {
          "output_type": "execute_result",
          "data": {
            "text/plain": [
              "<matplotlib.image.AxesImage at 0x7f7f2393c198>"
            ]
          },
          "metadata": {
            "tags": []
          },
          "execution_count": 6
        },
        {
          "output_type": "display_data",
          "data": {
            "image/png": "[encoded data removed]",
            "text/plain": [
              "<Figure size 432x288 with 3 Axes>"
            ]
          },
          "metadata": {
            "tags": []
          }
        }
      ]
    }
  ]
}