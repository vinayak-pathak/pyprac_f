{
  "nbformat": 4,
  "nbformat_minor": 0,
  "metadata": {
    "colab": {
      "name": "tf-notebook-2.ipynb",
      "provenance": [],
      "authorship_tag": "ABX9TyPtQnyJRvm6NXy70DTabaJY",
      "include_colab_link": true
    },
    "kernelspec": {
      "name": "python3",
      "display_name": "Python 3"
    },
    "accelerator": "GPU"
  },
  "cells": [
    {
      "cell_type": "markdown",
      "metadata": {
        "id": "view-in-github",
        "colab_type": "text"
      },
      "source": [
        "<a href=\"https://colab.research.google.com/github/vinayak-pathak/pyprac_f/blob/master/tf_notebook_2.ipynb\" target=\"_parent\"><img src=\"https://colab.research.google.com/assets/colab-badge.svg\" alt=\"Open In Colab\"/></a>"
      ]
    },
    {
      "cell_type": "code",
      "metadata": {
        "id": "gjOz7sNTXRj3",
        "colab_type": "code",
        "colab": {}
      },
      "source": [
        "import tensorflow as tf\n",
        "\n",
        "\n"
      ],
      "execution_count": 7,
      "outputs": []
    },
    {
      "cell_type": "code",
      "metadata": {
        "id": "60ou5hCpY_yn",
        "colab_type": "code",
        "colab": {}
      },
      "source": [
        "from tensorflow.keras.models import Model\n",
        "from tensorflow.keras.models import Sequential\n",
        "from tensorflow.keras.layers import BatchNormalization\n",
        "from tensorflow.keras.layers import AveragePooling2D\n",
        "from tensorflow.keras.layers import MaxPooling2D\n",
        "from tensorflow.keras.layers import Conv2D\n",
        "from tensorflow.keras.layers import Activation\n",
        "from tensorflow.keras.layers import Dropout\n",
        "from tensorflow.keras.layers import Flatten\n",
        "from tensorflow.keras.layers import Input\n",
        "from tensorflow.keras.layers import Dense\n",
        "from tensorflow.keras.layers import concatenate"
      ],
      "execution_count": 8,
      "outputs": []
    },
    {
      "cell_type": "code",
      "metadata": {
        "id": "PvnTMDDhYJ11",
        "colab_type": "code",
        "colab": {}
      },
      "source": [
        ""
      ],
      "execution_count": 8,
      "outputs": []
    },
    {
      "cell_type": "code",
      "metadata": {
        "id": "EN1_42WHXqup",
        "colab_type": "code",
        "colab": {}
      },
      "source": [
        "def shallownet_sequential(width, height, depth, classes):\n",
        "\n",
        "  # initialize the model alongwith the input shape to be\n",
        "  # \"channels last\" ordering\n",
        "  model = Sequential()\n",
        "  inputShape = (height, width, depth)\n",
        "\n",
        "  #define the first and only conv => relu layer\n",
        "  model.add(Conv2D(32, (3, 3), padding = \"same\", input_shape = inputShape))\n",
        "  model.add(Activation(\"relu\"))\n",
        "\n",
        "  #softmax classifier\n",
        "\n",
        "  model.add(Flatten())\n",
        "  model.add(Dense(classes))\n",
        "  model.add(Activation(\"softmax\"))\n",
        "\n",
        "  #return the constructed network architectutre\n",
        "  return model\n",
        "\n"
      ],
      "execution_count": 9,
      "outputs": []
    },
    {
      "cell_type": "code",
      "metadata": {
        "id": "8m0gOKLhe2-K",
        "colab_type": "code",
        "colab": {}
      },
      "source": [
        "## Create Functional API"
      ],
      "execution_count": 10,
      "outputs": []
    },
    {
      "cell_type": "markdown",
      "metadata": {
        "id": "-Mv-euVge6_j",
        "colab_type": "text"
      },
      "source": [
        "## Create Functional API"
      ]
    },
    {
      "cell_type": "code",
      "metadata": {
        "id": "NtNhRtxpbKsL",
        "colab_type": "code",
        "colab": {}
      },
      "source": [
        "def minigooglenet_functional(width, height, depth, classes):\n",
        "  inputShape = (height, width, depth)\n",
        "  chanDim = -1\n",
        "  def conv_module(x, K, kX, kY, stride, chanDim, padding = \"same\"):\n",
        "    x = Conv2D(K, (kX, kY), strides = stride, padding = padding)(x)\n",
        "    x = BatchNormalization(axis = chanDim)(x)\n",
        "    x = Activation(\"relu\")(x)\n",
        "    return x\n",
        "\n",
        "\n",
        "  def inception_module(x, numK1x1, numK3x3, chanDim):\n",
        "    # define two CONV modules, then concatenate across the \n",
        "    # channel dimension\n",
        "    conv_1x1 = conv_module(x, numK1x1, 1, 1, (1, 1), chanDim)\n",
        "    conv_3x3 = conv_module(x, numK3x3, 3, 3, (1, 1), chanDim)\n",
        "    x = concatenate([conv_1x1, conv_3x3], axis = chanDim)\n",
        "\n",
        "    #return the block\n",
        "    return x\n",
        "\n",
        "  def downsample_module(x, K, chanDim):\n",
        "    # define the CONV module and POOl, then concatenate across the channel dimension\n",
        "\n",
        "    conv_3x3 = conv_module(x, K, 3, 3, (2, 2), chanDim, padding = \"valid\")\n",
        "    pool = MaxPooling2D((3, 3), strides = (2, 2))(x)\n",
        "    x = concatenate([conv_3x3, pool], axis = chanDim)\n",
        "    return x\n",
        "\n",
        "    inputShape = (height, width, depth)\n",
        "    chanDim = -1\n",
        "\n",
        "  #define the model input and first CONV module\n",
        "  inputs = Input(shape = inputShape)\n",
        "  x = conv_module(inputs, 96, 3, 3, (1, 1), chanDim)\n",
        "\n",
        "  #two inception modules followed by a downsample module\n",
        "  x = inception_module(x, 32, 32, chanDim)\n",
        "  x = inception_module(x, 32, 48, chanDim)\n",
        "  x = downsample_module(x, 80, chanDim)\n",
        "\n",
        "  #four inception modules followed by a downsample module\n",
        "  x = inception_module(x, 112, 48, chanDim)\n",
        "  x = inception_module(x,96, 64,chanDim )\n",
        "  x = inception_module(x, 80, 80, chanDim)\n",
        "  x = inception_module(x, 48, 96, chanDim)\n",
        "  x = downsample_module(x, 96, chanDim)\n",
        "\n",
        "  #two inception modules followed by global pool and dropout\n",
        "\n",
        "  x = inception_module(x, 176, 160, chanDim)\n",
        "  x = inception_module(x, 176, 160, chanDim)\n",
        "  x = AveragePooling2D(7, 7)(x)\n",
        "  x = Dropout(0.5)(x)\n",
        "\n",
        "  #softmax classifier\n",
        "\n",
        "  x = Flatten()(x)\n",
        "  x = Dense(classes)(x)\n",
        "  x = Activation(\"softmax\")(x)\n",
        "\n",
        "  #create the model\n",
        "  model = Model(inputs, x, name = \"minigooglenet\")\n",
        "  return model\n"
      ],
      "execution_count": 11,
      "outputs": []
    },
    {
      "cell_type": "markdown",
      "metadata": {
        "id": "GYnzc_pyosvo",
        "colab_type": "text"
      },
      "source": [
        "Let’s look at a simple example implementing MiniVGGNet, an otherwise sequential model, but converted to a model subclass:"
      ]
    },
    {
      "cell_type": "code",
      "metadata": {
        "id": "hth1V1AIiaK1",
        "colab_type": "code",
        "colab": {}
      },
      "source": [
        "class MiniVGGNetModel(Model):\n",
        "  def __init__(self, classes, chanDim = -1):\n",
        "      #call thhe parent constructor\n",
        "      super(MiniVGGNetModel, self).__init__()\n",
        "\n",
        "      #initialize the layers in the first (CONV => RELU) * 2 =>POOL\n",
        "      #layer set\n",
        "      self.conv1A = conv2D(32, (3, 3), padding = \"same\")\n",
        "      self.act1A = Activation(\"relu\")\n",
        "      self.bn1A = BatchNormalization(axis = chanDim)\n",
        "      self.conv1B = Conv2D(32, (3, 3), padding = \"same\")\n",
        "      self.act1B = Activation(\"relu\")\n",
        "      self.bn1B = BatchNormalization(axis = chanDim)\n",
        "      self.pool1 = MaxPooling2D(pool_size = (2, 2))\n",
        "\n",
        "      #initializing the layers in the second (CONV => RELU)*2 => POOL\n",
        "      #layer set\n",
        "      self.conv2A = conv2D(32, (3, 3), padding = \"same\")\n",
        "      self.act2A = Activation(\"relu\")\n",
        "      self.bn2A = BatchNormalization(axis = chanDim)\n",
        "      self.conv2B = Conv2D(32, (3, 3), padding = \"same\")\n",
        "      self.act2B = Activation(\"relu\")\n",
        "      self.bn2B = BatchNormalization(axis = chanDim)\n",
        "      self.pool2 = MaxPooling2D(pool_size = (2, 2))\n",
        "\n",
        "      #initializing the layers in our fully-connected layer set\n",
        "      self.flatten = Flatten()\n",
        "      self.dense3 = Dense(512)\n",
        "      self.act3 = Activation(\"relu\")\n",
        "      self.bn3 = BatchNormalization()\n",
        "      self.do3 = Dropout(0.5)\n",
        "\n",
        "      #initialize the layers in the softmax classifier layer set\n",
        "      self.dense4 = Dense(classes)\n",
        "      self.softmax = Activation(\"softmax\")\n",
        "\n",
        "  def call(self, inputs):\n",
        "      #build the first (CONV =>RELU)*2 => POOL layer set\n",
        "      x = self.conv1A(inputs)\n",
        "      x = self.act1A(x)\n",
        "      x = self.bn1A(x)\n",
        "      x = self.conv1B(inputs)\n",
        "      x = self.act1B(x)\n",
        "      x = self.bn1B(x)\n",
        "      x = self.pool1(x)\n",
        "\n",
        "      #build the second (CONV => RELU)*2 => POOL layer set\n",
        "\n",
        "      x = self.conv2A(x)\n",
        "      x = self.act2A(x)\n",
        "      x = self.bn2A(x)\n",
        "      x = self.conv2B(x)\n",
        "      x = self.act2B(x)\n",
        "      x = self.bn2B(x)\n",
        "      x = self.pool2(x)\n",
        "      \n",
        "      #build our FC layer set\n",
        "      x = self.flatten(x)\n",
        "      x = self.dense3(x)\n",
        "      x = self.act3(x)\n",
        "      x = self.bn3(x)\n",
        "      x = self.do3(x)\n",
        "\n",
        "      #build the softmax classifier\n",
        "      x = self.dense4(x)\n",
        "      x = self.softmax(x)\n",
        "\n",
        "      # return the constructed model\n",
        "      return x\n",
        "\n",
        "\n",
        "\n",
        "\n",
        "\n"
      ],
      "execution_count": 12,
      "outputs": []
    },
    {
      "cell_type": "code",
      "metadata": {
        "id": "52WageSNvTDM",
        "colab_type": "code",
        "colab": {}
      },
      "source": [
        ""
      ],
      "execution_count": 12,
      "outputs": []
    },
    {
      "cell_type": "markdown",
      "metadata": {
        "id": "_45saYLIvn_Y",
        "colab_type": "text"
      },
      "source": [
        "# Implementing the training script"
      ]
    },
    {
      "cell_type": "code",
      "metadata": {
        "id": "RM0jpTB1vrDk",
        "colab_type": "code",
        "colab": {}
      },
      "source": [
        "import matplotlib\n",
        "#matplotlib.use(\"Agg\")\n",
        "\n",
        "import logging\n",
        "logging.getLogger(\"tensorflow\").setLevel(logging.CRITICAL)\n",
        "\n",
        "\n",
        "from sklearn.preprocessing import LabelBinarizer\n",
        "from sklearn.metrics import classification_report\n",
        "from tensorflow.keras.preprocessing.image import ImageDataGenerator\n",
        "from tensorflow.keras.optimizers import SGD\n",
        "from tensorflow.keras.datasets import cifar10\n",
        "import matplotlib.pyplot as plt\n",
        "import numpy as np\n",
        "import argparse\n",
        "\n",
        "\n",
        "\n"
      ],
      "execution_count": 56,
      "outputs": []
    },
    {
      "cell_type": "code",
      "metadata": {
        "id": "afSHUbkQx3W2",
        "colab_type": "code",
        "colab": {}
      },
      "source": [
        "#import argparse\n",
        "#ap = argparse.ArgumentParser()\n",
        "#ap.add_argument(\"-m\", \"--model\", type = str, default = \"sequential\", choices = [\"sequential\", \"functional\", \"class\"], help = \"type of model architecture\" )\n",
        "#ap.add_argument(\"-p\", \"--plot\", type = str, required = True, help = \"type of model architecture\" )\n",
        "#args = vars(ap.parse_args())"
      ],
      "execution_count": 16,
      "outputs": []
    },
    {
      "cell_type": "code",
      "metadata": {
        "id": "STiUJUR10QNQ",
        "colab_type": "code",
        "colab": {
          "base_uri": "https://localhost:8080/",
          "height": 34
        },
        "outputId": "80bb07a6-f73d-48f7-b4a9-2891f5c55b8c"
      },
      "source": [
        "INIT_LR = 1e-2\n",
        "BATCH_SIZE = 128\n",
        "NUM_EPOCHS = 60\n",
        "\n",
        "#initialize the label names for the CIFAR-10 dataset\n",
        "\n",
        "labelNames = [\"airplane\", \"automobile\", \"bird\", \"cat\", \"deer\", \"dog\", \"frog\", \"horse\", \"ship\", \"truck\"]\n",
        "\n",
        "#load the CIFAR-10 dataset\n",
        "print(\"[INFO] loading CIFAR-10 dataset...\")\n",
        "((trainX, trainY), (testX, testY)) = cifar10.load_data()\n"
      ],
      "execution_count": 35,
      "outputs": [
        {
          "output_type": "stream",
          "text": [
            "[INFO] loading CIFAR-10 dataset...\n"
          ],
          "name": "stdout"
        }
      ]
    },
    {
      "cell_type": "code",
      "metadata": {
        "id": "nGWFrEAODGs0",
        "colab_type": "code",
        "colab": {
          "base_uri": "https://localhost:8080/",
          "height": 136
        },
        "outputId": "02f11572-0bd0-4bb6-a1ec-5c14703e8e9b"
      },
      "source": [
        "trainY"
      ],
      "execution_count": 34,
      "outputs": [
        {
          "output_type": "execute_result",
          "data": {
            "text/plain": [
              "array([[6],\n",
              "       [9],\n",
              "       [9],\n",
              "       ...,\n",
              "       [9],\n",
              "       [1],\n",
              "       [1]], dtype=uint8)"
            ]
          },
          "metadata": {
            "tags": []
          },
          "execution_count": 34
        }
      ]
    },
    {
      "cell_type": "code",
      "metadata": {
        "id": "yvRcrnna1XyU",
        "colab_type": "code",
        "colab": {}
      },
      "source": [
        "#scale the data to the range [0, 1]\n",
        "trainX = trainX.astype(\"float32\")/255.0\n",
        "testX = testX.astype(\"float32\")/255.0\n",
        "\n"
      ],
      "execution_count": 36,
      "outputs": []
    },
    {
      "cell_type": "code",
      "metadata": {
        "id": "V7ydCIvPC-zO",
        "colab_type": "code",
        "colab": {
          "base_uri": "https://localhost:8080/",
          "height": 136
        },
        "outputId": "5f125e54-6520-4034-ca24-e29b44b0b1b7"
      },
      "source": [
        "trainY"
      ],
      "execution_count": 38,
      "outputs": [
        {
          "output_type": "execute_result",
          "data": {
            "text/plain": [
              "array([[0, 0, 0, ..., 0, 0, 0],\n",
              "       [0, 0, 0, ..., 0, 0, 1],\n",
              "       [0, 0, 0, ..., 0, 0, 1],\n",
              "       ...,\n",
              "       [0, 0, 0, ..., 0, 0, 1],\n",
              "       [0, 1, 0, ..., 0, 0, 0],\n",
              "       [0, 1, 0, ..., 0, 0, 0]])"
            ]
          },
          "metadata": {
            "tags": []
          },
          "execution_count": 38
        }
      ]
    },
    {
      "cell_type": "code",
      "metadata": {
        "id": "dT4WUoB81egR",
        "colab_type": "code",
        "colab": {}
      },
      "source": [
        "#convert the labels from integers to vectors\n",
        "lb = LabelBinarizer()\n",
        "trainY = lb.fit_transform(trainY)\n",
        "testY = lb.transform(testY)"
      ],
      "execution_count": 37,
      "outputs": []
    },
    {
      "cell_type": "code",
      "metadata": {
        "id": "uvlA3kFa2fgX",
        "colab_type": "code",
        "colab": {
          "base_uri": "https://localhost:8080/",
          "height": 34
        },
        "outputId": "d0114b84-7639-45be-d497-49a3d3dc6f43"
      },
      "source": [
        "trainY.shape"
      ],
      "execution_count": 26,
      "outputs": [
        {
          "output_type": "execute_result",
          "data": {
            "text/plain": [
              "(50000, 1)"
            ]
          },
          "metadata": {
            "tags": []
          },
          "execution_count": 26
        }
      ]
    },
    {
      "cell_type": "code",
      "metadata": {
        "id": "VBtdG3gk2gYT",
        "colab_type": "code",
        "colab": {
          "base_uri": "https://localhost:8080/",
          "height": 34
        },
        "outputId": "3c123a3b-44a9-4ce8-ec50-4f2ad06b033f"
      },
      "source": [
        "testY.shape"
      ],
      "execution_count": 27,
      "outputs": [
        {
          "output_type": "execute_result",
          "data": {
            "text/plain": [
              "(10000, 1)"
            ]
          },
          "metadata": {
            "tags": []
          },
          "execution_count": 27
        }
      ]
    },
    {
      "cell_type": "code",
      "metadata": {
        "id": "deebMXy72ibY",
        "colab_type": "code",
        "colab": {}
      },
      "source": [
        "trainY.shape"
      ],
      "execution_count": null,
      "outputs": []
    },
    {
      "cell_type": "code",
      "metadata": {
        "id": "G_THK-3G2nRV",
        "colab_type": "code",
        "colab": {}
      },
      "source": [
        "aug = ImageDataGenerator(rotation_range = 18, zoom_range = 0.15, width_shift_range=0.2, height_shift_range=0.2, shear_range=0.15, horizontal_flip=True, fill_mode='nearest')"
      ],
      "execution_count": 39,
      "outputs": []
    },
    {
      "cell_type": "code",
      "metadata": {
        "id": "h8iU6sm93IqX",
        "colab_type": "code",
        "colab": {}
      },
      "source": [
        "def model_choice(c):\n",
        "  if c == \"sequential\":\n",
        "    print(\"[INFO] using the sequential model\")\n",
        "    model = shallownet_sequential(32, 32, 3, len(labelNames))\n",
        "\n",
        "  elif c == \"functional\":\n",
        "    print(\"[INFO] using the functional model\")\n",
        "    model = minigooglenet_functional(32, 32, 3, len(labelNames))\n",
        "  elif c == \"class\":\n",
        "    print(\"[INFO] using the functional model\")\n",
        "    model = MiniVGGNetModel(len(labelNames))\n",
        "\n",
        "  return model\n",
        "\n"
      ],
      "execution_count": 40,
      "outputs": []
    },
    {
      "cell_type": "code",
      "metadata": {
        "id": "FGeLe24L--V6",
        "colab_type": "code",
        "colab": {
          "base_uri": "https://localhost:8080/",
          "height": 34
        },
        "outputId": "6c173262-0a2e-45d1-d105-2cb34eeb2e73"
      },
      "source": [
        "model = model_choice(\"functional\")"
      ],
      "execution_count": 41,
      "outputs": [
        {
          "output_type": "stream",
          "text": [
            "[INFO] using the functional model\n"
          ],
          "name": "stdout"
        }
      ]
    },
    {
      "cell_type": "code",
      "metadata": {
        "id": "H0g-lEIEBsF2",
        "colab_type": "code",
        "colab": {
          "base_uri": "https://localhost:8080/",
          "height": 34
        },
        "outputId": "f2a3989f-91f8-498d-e416-c19ff25fb9f8"
      },
      "source": [
        "type(model)"
      ],
      "execution_count": 42,
      "outputs": [
        {
          "output_type": "execute_result",
          "data": {
            "text/plain": [
              "tensorflow.python.keras.engine.functional.Functional"
            ]
          },
          "metadata": {
            "tags": []
          },
          "execution_count": 42
        }
      ]
    },
    {
      "cell_type": "code",
      "metadata": {
        "id": "PI23Mn-78DOi",
        "colab_type": "code",
        "colab": {
          "base_uri": "https://localhost:8080/",
          "height": 1000
        },
        "outputId": "6475d6af-b604-44f6-8439-457823777a20"
      },
      "source": [
        "## Initialize the optimizer and compile the model\n",
        "\n",
        "\n",
        "opt = SGD(lr = INIT_LR, momentum = 0.9, decay = INIT_LR/NUM_EPOCHS)\n",
        "print(\"[INFO] training network...\")\n",
        "model.compile(loss = \"categorical_crossentropy\", optimizer = opt, metrics = [\"accuracy\"])\n",
        "\n",
        "##Train the network\n",
        "H = model.fit(aug.flow(trainX, trainY, batch_size=BATCH_SIZE), validation_data = (testX, testY), steps_per_epoch=trainX.shape[0]//BATCH_SIZE, epochs = NUM_EPOCHS, verbose =1)\n"
      ],
      "execution_count": 43,
      "outputs": [
        {
          "output_type": "stream",
          "text": [
            "[INFO] training network...\n",
            "Epoch 1/60\n",
            "390/390 [==============================] - 38s 97ms/step - loss: 1.6239 - accuracy: 0.4062 - val_loss: 1.9143 - val_accuracy: 0.3236\n",
            "Epoch 2/60\n",
            "390/390 [==============================] - 36s 92ms/step - loss: 1.2386 - accuracy: 0.5576 - val_loss: 1.1811 - val_accuracy: 0.5899\n",
            "Epoch 3/60\n",
            "390/390 [==============================] - 37s 94ms/step - loss: 1.0710 - accuracy: 0.6203 - val_loss: 1.1119 - val_accuracy: 0.6050\n",
            "Epoch 4/60\n",
            "390/390 [==============================] - 37s 96ms/step - loss: 0.9586 - accuracy: 0.6630 - val_loss: 0.9035 - val_accuracy: 0.6834\n",
            "Epoch 5/60\n",
            "390/390 [==============================] - 37s 95ms/step - loss: 0.8885 - accuracy: 0.6888 - val_loss: 1.0960 - val_accuracy: 0.6466\n",
            "Epoch 6/60\n",
            "390/390 [==============================] - 38s 97ms/step - loss: 0.8173 - accuracy: 0.7144 - val_loss: 1.3550 - val_accuracy: 0.6215\n",
            "Epoch 7/60\n",
            "390/390 [==============================] - 37s 95ms/step - loss: 0.7662 - accuracy: 0.7357 - val_loss: 0.7700 - val_accuracy: 0.7334\n",
            "Epoch 8/60\n",
            "390/390 [==============================] - 37s 95ms/step - loss: 0.7187 - accuracy: 0.7509 - val_loss: 0.8490 - val_accuracy: 0.7258\n",
            "Epoch 9/60\n",
            "390/390 [==============================] - 37s 96ms/step - loss: 0.6824 - accuracy: 0.7636 - val_loss: 0.7952 - val_accuracy: 0.7335\n",
            "Epoch 10/60\n",
            "390/390 [==============================] - 37s 96ms/step - loss: 0.6530 - accuracy: 0.7758 - val_loss: 0.9148 - val_accuracy: 0.7013\n",
            "Epoch 11/60\n",
            "390/390 [==============================] - 38s 97ms/step - loss: 0.6159 - accuracy: 0.7869 - val_loss: 0.9128 - val_accuracy: 0.7209\n",
            "Epoch 12/60\n",
            "390/390 [==============================] - 37s 96ms/step - loss: 0.5954 - accuracy: 0.7951 - val_loss: 0.7495 - val_accuracy: 0.7686\n",
            "Epoch 13/60\n",
            "390/390 [==============================] - 38s 97ms/step - loss: 0.5746 - accuracy: 0.8022 - val_loss: 0.6570 - val_accuracy: 0.7904\n",
            "Epoch 14/60\n",
            "390/390 [==============================] - 37s 95ms/step - loss: 0.5502 - accuracy: 0.8110 - val_loss: 0.7511 - val_accuracy: 0.7547\n",
            "Epoch 15/60\n",
            "390/390 [==============================] - 37s 94ms/step - loss: 0.5340 - accuracy: 0.8156 - val_loss: 0.5949 - val_accuracy: 0.8055\n",
            "Epoch 16/60\n",
            "390/390 [==============================] - 37s 94ms/step - loss: 0.5140 - accuracy: 0.8219 - val_loss: 0.6217 - val_accuracy: 0.7925\n",
            "Epoch 17/60\n",
            "390/390 [==============================] - 37s 94ms/step - loss: 0.4995 - accuracy: 0.8299 - val_loss: 0.5663 - val_accuracy: 0.8113\n",
            "Epoch 18/60\n",
            "390/390 [==============================] - 37s 94ms/step - loss: 0.4865 - accuracy: 0.8340 - val_loss: 0.6581 - val_accuracy: 0.7897\n",
            "Epoch 19/60\n",
            "390/390 [==============================] - 37s 94ms/step - loss: 0.4762 - accuracy: 0.8370 - val_loss: 0.7407 - val_accuracy: 0.7798\n",
            "Epoch 20/60\n",
            "390/390 [==============================] - 36s 93ms/step - loss: 0.4553 - accuracy: 0.8442 - val_loss: 0.7719 - val_accuracy: 0.7745\n",
            "Epoch 21/60\n",
            "390/390 [==============================] - 37s 94ms/step - loss: 0.4509 - accuracy: 0.8462 - val_loss: 0.6776 - val_accuracy: 0.8033\n",
            "Epoch 22/60\n",
            "390/390 [==============================] - 36s 93ms/step - loss: 0.4361 - accuracy: 0.8510 - val_loss: 0.5641 - val_accuracy: 0.8256\n",
            "Epoch 23/60\n",
            "390/390 [==============================] - 37s 94ms/step - loss: 0.4230 - accuracy: 0.8555 - val_loss: 0.4935 - val_accuracy: 0.8400\n",
            "Epoch 24/60\n",
            "390/390 [==============================] - 36s 93ms/step - loss: 0.4176 - accuracy: 0.8584 - val_loss: 0.4968 - val_accuracy: 0.8340\n",
            "Epoch 25/60\n",
            "390/390 [==============================] - 37s 94ms/step - loss: 0.4010 - accuracy: 0.8620 - val_loss: 0.6463 - val_accuracy: 0.8082\n",
            "Epoch 26/60\n",
            "390/390 [==============================] - 37s 94ms/step - loss: 0.3971 - accuracy: 0.8648 - val_loss: 0.5217 - val_accuracy: 0.8346\n",
            "Epoch 27/60\n",
            "390/390 [==============================] - 37s 94ms/step - loss: 0.3872 - accuracy: 0.8670 - val_loss: 0.4482 - val_accuracy: 0.8539\n",
            "Epoch 28/60\n",
            "390/390 [==============================] - 36s 93ms/step - loss: 0.3788 - accuracy: 0.8698 - val_loss: 0.5329 - val_accuracy: 0.8322\n",
            "Epoch 29/60\n",
            "390/390 [==============================] - 37s 94ms/step - loss: 0.3734 - accuracy: 0.8722 - val_loss: 0.4521 - val_accuracy: 0.8548\n",
            "Epoch 30/60\n",
            "390/390 [==============================] - 36s 94ms/step - loss: 0.3668 - accuracy: 0.8737 - val_loss: 0.5071 - val_accuracy: 0.8385\n",
            "Epoch 31/60\n",
            "390/390 [==============================] - 37s 94ms/step - loss: 0.3647 - accuracy: 0.8758 - val_loss: 0.4651 - val_accuracy: 0.8529\n",
            "Epoch 32/60\n",
            "390/390 [==============================] - 37s 94ms/step - loss: 0.3557 - accuracy: 0.8788 - val_loss: 0.5055 - val_accuracy: 0.8450\n",
            "Epoch 33/60\n",
            "390/390 [==============================] - 36s 91ms/step - loss: 0.3485 - accuracy: 0.8810 - val_loss: 0.4778 - val_accuracy: 0.8569\n",
            "Epoch 34/60\n",
            "390/390 [==============================] - 35s 91ms/step - loss: 0.3380 - accuracy: 0.8830 - val_loss: 0.5889 - val_accuracy: 0.8223\n",
            "Epoch 35/60\n",
            "390/390 [==============================] - 36s 91ms/step - loss: 0.3354 - accuracy: 0.8862 - val_loss: 0.7898 - val_accuracy: 0.7985\n",
            "Epoch 36/60\n",
            "390/390 [==============================] - 36s 91ms/step - loss: 0.3316 - accuracy: 0.8858 - val_loss: 0.5344 - val_accuracy: 0.8385\n",
            "Epoch 37/60\n",
            "390/390 [==============================] - 35s 91ms/step - loss: 0.3230 - accuracy: 0.8880 - val_loss: 0.5891 - val_accuracy: 0.8310\n",
            "Epoch 38/60\n",
            "390/390 [==============================] - 35s 90ms/step - loss: 0.3155 - accuracy: 0.8909 - val_loss: 0.4402 - val_accuracy: 0.8666\n",
            "Epoch 39/60\n",
            "390/390 [==============================] - 35s 90ms/step - loss: 0.3126 - accuracy: 0.8928 - val_loss: 0.5744 - val_accuracy: 0.8337\n",
            "Epoch 40/60\n",
            "390/390 [==============================] - 35s 91ms/step - loss: 0.3142 - accuracy: 0.8916 - val_loss: 0.6050 - val_accuracy: 0.8364\n",
            "Epoch 41/60\n",
            "390/390 [==============================] - 35s 91ms/step - loss: 0.3020 - accuracy: 0.8947 - val_loss: 0.5856 - val_accuracy: 0.8408\n",
            "Epoch 42/60\n",
            "390/390 [==============================] - 35s 90ms/step - loss: 0.3009 - accuracy: 0.8973 - val_loss: 0.4750 - val_accuracy: 0.8570\n",
            "Epoch 43/60\n",
            "390/390 [==============================] - 36s 92ms/step - loss: 0.2941 - accuracy: 0.9006 - val_loss: 0.4112 - val_accuracy: 0.8753\n",
            "Epoch 44/60\n",
            "390/390 [==============================] - 36s 92ms/step - loss: 0.2928 - accuracy: 0.8982 - val_loss: 0.4759 - val_accuracy: 0.8611\n",
            "Epoch 45/60\n",
            "390/390 [==============================] - 36s 91ms/step - loss: 0.2906 - accuracy: 0.8995 - val_loss: 0.4014 - val_accuracy: 0.8722\n",
            "Epoch 46/60\n",
            "390/390 [==============================] - 35s 91ms/step - loss: 0.2808 - accuracy: 0.9039 - val_loss: 0.5251 - val_accuracy: 0.8457\n",
            "Epoch 47/60\n",
            "390/390 [==============================] - 35s 90ms/step - loss: 0.2840 - accuracy: 0.9009 - val_loss: 0.4158 - val_accuracy: 0.8714\n",
            "Epoch 48/60\n",
            "390/390 [==============================] - 35s 90ms/step - loss: 0.2748 - accuracy: 0.9060 - val_loss: 0.4475 - val_accuracy: 0.8653\n",
            "Epoch 49/60\n",
            "390/390 [==============================] - 36s 92ms/step - loss: 0.2727 - accuracy: 0.9065 - val_loss: 0.4832 - val_accuracy: 0.8600\n",
            "Epoch 50/60\n",
            "390/390 [==============================] - 37s 94ms/step - loss: 0.2716 - accuracy: 0.9070 - val_loss: 0.3811 - val_accuracy: 0.8782\n",
            "Epoch 51/60\n",
            "390/390 [==============================] - 37s 94ms/step - loss: 0.2702 - accuracy: 0.9070 - val_loss: 0.5330 - val_accuracy: 0.8555\n",
            "Epoch 52/60\n",
            "390/390 [==============================] - 37s 94ms/step - loss: 0.2619 - accuracy: 0.9103 - val_loss: 0.4549 - val_accuracy: 0.8660\n",
            "Epoch 53/60\n",
            "390/390 [==============================] - 37s 94ms/step - loss: 0.2606 - accuracy: 0.9112 - val_loss: 0.4985 - val_accuracy: 0.8601\n",
            "Epoch 54/60\n",
            "390/390 [==============================] - 36s 93ms/step - loss: 0.2561 - accuracy: 0.9119 - val_loss: 0.4804 - val_accuracy: 0.8620\n",
            "Epoch 55/60\n",
            "390/390 [==============================] - 36s 92ms/step - loss: 0.2584 - accuracy: 0.9110 - val_loss: 0.5242 - val_accuracy: 0.8549\n",
            "Epoch 56/60\n",
            "390/390 [==============================] - 36s 92ms/step - loss: 0.2509 - accuracy: 0.9137 - val_loss: 0.4940 - val_accuracy: 0.8611\n",
            "Epoch 57/60\n",
            "390/390 [==============================] - 36s 92ms/step - loss: 0.2449 - accuracy: 0.9153 - val_loss: 0.4230 - val_accuracy: 0.8755\n",
            "Epoch 58/60\n",
            "390/390 [==============================] - 36s 92ms/step - loss: 0.2480 - accuracy: 0.9152 - val_loss: 0.4428 - val_accuracy: 0.8708\n",
            "Epoch 59/60\n",
            "390/390 [==============================] - 36s 92ms/step - loss: 0.2411 - accuracy: 0.9160 - val_loss: 0.3862 - val_accuracy: 0.8834\n",
            "Epoch 60/60\n",
            "390/390 [==============================] - 36s 92ms/step - loss: 0.2413 - accuracy: 0.9164 - val_loss: 0.4236 - val_accuracy: 0.8737\n"
          ],
          "name": "stdout"
        }
      ]
    },
    {
      "cell_type": "code",
      "metadata": {
        "id": "TbjrPHXvO7D_",
        "colab_type": "code",
        "colab": {
          "base_uri": "https://localhost:8080/",
          "height": 255
        },
        "outputId": "393f4614-39ad-4d8e-eae1-e0c16f1d7750"
      },
      "source": [
        "print(\"[INFO] evaluating network\")\n",
        "predictions = model.predict(testX, batch_size=BATCH_SIZE)\n",
        "print(predictions)"
      ],
      "execution_count": 45,
      "outputs": [
        {
          "output_type": "stream",
          "text": [
            "[INFO] evaluating network\n",
            "[[2.5761146e-06 5.1542372e-03 4.7343042e-07 ... 3.9417732e-06\n",
            "  3.0292023e-04 5.0411045e-06]\n",
            " [1.0623759e-05 3.5335077e-05 9.9663095e-13 ... 3.7605214e-12\n",
            "  9.9995399e-01 6.2133081e-09]\n",
            " [1.1463874e-06 1.7172281e-02 3.4024397e-10 ... 5.7255439e-10\n",
            "  9.8281640e-01 1.0145912e-05]\n",
            " ...\n",
            " [2.4264772e-08 3.5296401e-07 3.8827191e-05 ... 2.2929192e-03\n",
            "  6.7895587e-07 5.7682166e-07]\n",
            " [2.0910646e-08 9.9999881e-01 1.3280413e-08 ... 2.3004179e-07\n",
            "  3.8325965e-08 6.4595548e-07]\n",
            " [7.6176023e-13 1.6405001e-11 2.9410359e-12 ... 9.9999833e-01\n",
            "  3.3507217e-14 3.2766101e-12]]\n"
          ],
          "name": "stdout"
        }
      ]
    },
    {
      "cell_type": "code",
      "metadata": {
        "id": "WqggRMUSPc2s",
        "colab_type": "code",
        "colab": {
          "base_uri": "https://localhost:8080/",
          "height": 238
        },
        "outputId": "1354d3f9-6622-4c15-9f28-791b0631fa45"
      },
      "source": [
        "predictions"
      ],
      "execution_count": 46,
      "outputs": [
        {
          "output_type": "execute_result",
          "data": {
            "text/plain": [
              "array([[2.5761146e-06, 5.1542372e-03, 4.7343042e-07, ..., 3.9417732e-06,\n",
              "        3.0292023e-04, 5.0411045e-06],\n",
              "       [1.0623759e-05, 3.5335077e-05, 9.9663095e-13, ..., 3.7605214e-12,\n",
              "        9.9995399e-01, 6.2133081e-09],\n",
              "       [1.1463874e-06, 1.7172281e-02, 3.4024397e-10, ..., 5.7255439e-10,\n",
              "        9.8281640e-01, 1.0145912e-05],\n",
              "       ...,\n",
              "       [2.4264772e-08, 3.5296401e-07, 3.8827191e-05, ..., 2.2929192e-03,\n",
              "        6.7895587e-07, 5.7682166e-07],\n",
              "       [2.0910646e-08, 9.9999881e-01, 1.3280413e-08, ..., 2.3004179e-07,\n",
              "        3.8325965e-08, 6.4595548e-07],\n",
              "       [7.6176023e-13, 1.6405001e-11, 2.9410359e-12, ..., 9.9999833e-01,\n",
              "        3.3507217e-14, 3.2766101e-12]], dtype=float32)"
            ]
          },
          "metadata": {
            "tags": []
          },
          "execution_count": 46
        }
      ]
    },
    {
      "cell_type": "code",
      "metadata": {
        "id": "ttqIPModPf3a",
        "colab_type": "code",
        "colab": {
          "base_uri": "https://localhost:8080/",
          "height": 1000
        },
        "outputId": "cb41ca6d-d067-43eb-c575-bd1cfe5b64c5"
      },
      "source": [
        "testX"
      ],
      "execution_count": 47,
      "outputs": [
        {
          "output_type": "execute_result",
          "data": {
            "text/plain": [
              "array([[[[0.61960787, 0.4392157 , 0.19215687],\n",
              "         [0.62352943, 0.43529412, 0.18431373],\n",
              "         [0.64705884, 0.45490196, 0.2       ],\n",
              "         ...,\n",
              "         [0.5372549 , 0.37254903, 0.14117648],\n",
              "         [0.49411765, 0.35686275, 0.14117648],\n",
              "         [0.45490196, 0.33333334, 0.12941177]],\n",
              "\n",
              "        [[0.59607846, 0.4392157 , 0.2       ],\n",
              "         [0.5921569 , 0.43137255, 0.15686275],\n",
              "         [0.62352943, 0.44705883, 0.1764706 ],\n",
              "         ...,\n",
              "         [0.53333336, 0.37254903, 0.12156863],\n",
              "         [0.49019608, 0.35686275, 0.1254902 ],\n",
              "         [0.46666667, 0.34509805, 0.13333334]],\n",
              "\n",
              "        [[0.5921569 , 0.43137255, 0.18431373],\n",
              "         [0.5921569 , 0.42745098, 0.12941177],\n",
              "         [0.61960787, 0.43529412, 0.14117648],\n",
              "         ...,\n",
              "         [0.54509807, 0.38431373, 0.13333334],\n",
              "         [0.50980395, 0.37254903, 0.13333334],\n",
              "         [0.47058824, 0.34901962, 0.12941177]],\n",
              "\n",
              "        ...,\n",
              "\n",
              "        [[0.26666668, 0.4862745 , 0.69411767],\n",
              "         [0.16470589, 0.39215687, 0.5803922 ],\n",
              "         [0.12156863, 0.34509805, 0.5372549 ],\n",
              "         ...,\n",
              "         [0.14901961, 0.38039216, 0.57254905],\n",
              "         [0.05098039, 0.2509804 , 0.42352942],\n",
              "         [0.15686275, 0.33333334, 0.49803922]],\n",
              "\n",
              "        [[0.23921569, 0.45490196, 0.65882355],\n",
              "         [0.19215687, 0.4       , 0.5803922 ],\n",
              "         [0.13725491, 0.33333334, 0.5176471 ],\n",
              "         ...,\n",
              "         [0.10196079, 0.32156864, 0.50980395],\n",
              "         [0.11372549, 0.32156864, 0.49411765],\n",
              "         [0.07843138, 0.2509804 , 0.41960785]],\n",
              "\n",
              "        [[0.21176471, 0.41960785, 0.627451  ],\n",
              "         [0.21960784, 0.4117647 , 0.58431375],\n",
              "         [0.1764706 , 0.34901962, 0.5176471 ],\n",
              "         ...,\n",
              "         [0.09411765, 0.3019608 , 0.4862745 ],\n",
              "         [0.13333334, 0.32941177, 0.5058824 ],\n",
              "         [0.08235294, 0.2627451 , 0.43137255]]],\n",
              "\n",
              "\n",
              "       [[[0.92156863, 0.92156863, 0.92156863],\n",
              "         [0.90588236, 0.90588236, 0.90588236],\n",
              "         [0.9098039 , 0.9098039 , 0.9098039 ],\n",
              "         ...,\n",
              "         [0.9137255 , 0.9137255 , 0.9137255 ],\n",
              "         [0.9137255 , 0.9137255 , 0.9137255 ],\n",
              "         [0.9098039 , 0.9098039 , 0.9098039 ]],\n",
              "\n",
              "        [[0.93333334, 0.93333334, 0.93333334],\n",
              "         [0.92156863, 0.92156863, 0.92156863],\n",
              "         [0.92156863, 0.92156863, 0.92156863],\n",
              "         ...,\n",
              "         [0.9254902 , 0.9254902 , 0.9254902 ],\n",
              "         [0.9254902 , 0.9254902 , 0.9254902 ],\n",
              "         [0.92156863, 0.92156863, 0.92156863]],\n",
              "\n",
              "        [[0.92941177, 0.92941177, 0.92941177],\n",
              "         [0.91764706, 0.91764706, 0.91764706],\n",
              "         [0.91764706, 0.91764706, 0.91764706],\n",
              "         ...,\n",
              "         [0.92156863, 0.92156863, 0.92156863],\n",
              "         [0.92156863, 0.92156863, 0.92156863],\n",
              "         [0.91764706, 0.91764706, 0.91764706]],\n",
              "\n",
              "        ...,\n",
              "\n",
              "        [[0.34117648, 0.3882353 , 0.34901962],\n",
              "         [0.16862746, 0.2       , 0.14509805],\n",
              "         [0.07450981, 0.09019608, 0.04313726],\n",
              "         ...,\n",
              "         [0.6627451 , 0.72156864, 0.7019608 ],\n",
              "         [0.7137255 , 0.77254903, 0.75686276],\n",
              "         [0.7372549 , 0.7921569 , 0.7882353 ]],\n",
              "\n",
              "        [[0.32156864, 0.3764706 , 0.32156864],\n",
              "         [0.18039216, 0.22352941, 0.14117648],\n",
              "         [0.14117648, 0.17254902, 0.08627451],\n",
              "         ...,\n",
              "         [0.68235296, 0.7411765 , 0.7176471 ],\n",
              "         [0.7254902 , 0.78431374, 0.76862746],\n",
              "         [0.73333335, 0.7921569 , 0.78431374]],\n",
              "\n",
              "        [[0.33333334, 0.39607844, 0.3254902 ],\n",
              "         [0.24313726, 0.29411766, 0.1882353 ],\n",
              "         [0.22745098, 0.2627451 , 0.14901961],\n",
              "         ...,\n",
              "         [0.65882355, 0.7176471 , 0.69803923],\n",
              "         [0.7058824 , 0.7647059 , 0.7490196 ],\n",
              "         [0.7294118 , 0.78431374, 0.78039217]]],\n",
              "\n",
              "\n",
              "       [[[0.61960787, 0.74509805, 0.87058824],\n",
              "         [0.61960787, 0.73333335, 0.85490197],\n",
              "         [0.54509807, 0.6509804 , 0.7607843 ],\n",
              "         ...,\n",
              "         [0.89411765, 0.90588236, 0.91764706],\n",
              "         [0.92941177, 0.9372549 , 0.9529412 ],\n",
              "         [0.93333334, 0.94509804, 0.9647059 ]],\n",
              "\n",
              "        [[0.6666667 , 0.78431374, 0.8980392 ],\n",
              "         [0.6745098 , 0.78039217, 0.8862745 ],\n",
              "         [0.5921569 , 0.6901961 , 0.7882353 ],\n",
              "         ...,\n",
              "         [0.9098039 , 0.9098039 , 0.9254902 ],\n",
              "         [0.9647059 , 0.9647059 , 0.98039216],\n",
              "         [0.9647059 , 0.96862745, 0.9843137 ]],\n",
              "\n",
              "        [[0.68235296, 0.7882353 , 0.88235295],\n",
              "         [0.6901961 , 0.78431374, 0.87058824],\n",
              "         [0.6156863 , 0.7019608 , 0.78039217],\n",
              "         ...,\n",
              "         [0.9019608 , 0.8980392 , 0.9098039 ],\n",
              "         [0.98039216, 0.9764706 , 0.9843137 ],\n",
              "         [0.9607843 , 0.95686275, 0.96862745]],\n",
              "\n",
              "        ...,\n",
              "\n",
              "        [[0.12156863, 0.15686275, 0.1764706 ],\n",
              "         [0.11764706, 0.15294118, 0.17254902],\n",
              "         [0.10196079, 0.13725491, 0.15686275],\n",
              "         ...,\n",
              "         [0.14509805, 0.15686275, 0.18039216],\n",
              "         [0.03529412, 0.05098039, 0.05490196],\n",
              "         [0.01568628, 0.02745098, 0.01960784]],\n",
              "\n",
              "        [[0.09019608, 0.13333334, 0.15294118],\n",
              "         [0.10588235, 0.14901961, 0.16862746],\n",
              "         [0.09803922, 0.14117648, 0.16078432],\n",
              "         ...,\n",
              "         [0.07450981, 0.07843138, 0.09411765],\n",
              "         [0.01568628, 0.02352941, 0.01176471],\n",
              "         [0.01960784, 0.02745098, 0.01176471]],\n",
              "\n",
              "        [[0.10980392, 0.16078432, 0.18431373],\n",
              "         [0.11764706, 0.16862746, 0.19607843],\n",
              "         [0.1254902 , 0.1764706 , 0.20392157],\n",
              "         ...,\n",
              "         [0.01960784, 0.02352941, 0.03137255],\n",
              "         [0.01568628, 0.01960784, 0.01176471],\n",
              "         [0.02745098, 0.03137255, 0.02745098]]],\n",
              "\n",
              "\n",
              "       ...,\n",
              "\n",
              "\n",
              "       [[[0.07843138, 0.05882353, 0.04705882],\n",
              "         [0.07450981, 0.05490196, 0.04313726],\n",
              "         [0.05882353, 0.05490196, 0.04313726],\n",
              "         ...,\n",
              "         [0.03921569, 0.03529412, 0.02745098],\n",
              "         [0.04705882, 0.04313726, 0.03529412],\n",
              "         [0.05098039, 0.04705882, 0.03921569]],\n",
              "\n",
              "        [[0.08235294, 0.0627451 , 0.05098039],\n",
              "         [0.07843138, 0.0627451 , 0.05098039],\n",
              "         [0.07058824, 0.06666667, 0.04705882],\n",
              "         ...,\n",
              "         [0.03921569, 0.03529412, 0.02745098],\n",
              "         [0.03921569, 0.03529412, 0.02745098],\n",
              "         [0.04705882, 0.04313726, 0.03529412]],\n",
              "\n",
              "        [[0.08235294, 0.0627451 , 0.05098039],\n",
              "         [0.08235294, 0.06666667, 0.04705882],\n",
              "         [0.07843138, 0.07058824, 0.04313726],\n",
              "         ...,\n",
              "         [0.04705882, 0.04313726, 0.03529412],\n",
              "         [0.04705882, 0.04313726, 0.03529412],\n",
              "         [0.05098039, 0.04705882, 0.03921569]],\n",
              "\n",
              "        ...,\n",
              "\n",
              "        [[0.12941177, 0.09803922, 0.05098039],\n",
              "         [0.13333334, 0.10196079, 0.05882353],\n",
              "         [0.13333334, 0.10196079, 0.05882353],\n",
              "         ...,\n",
              "         [0.10980392, 0.09803922, 0.20392157],\n",
              "         [0.11372549, 0.09803922, 0.22745098],\n",
              "         [0.09019608, 0.07843138, 0.16470589]],\n",
              "\n",
              "        [[0.12941177, 0.09803922, 0.05490196],\n",
              "         [0.13333334, 0.10196079, 0.05882353],\n",
              "         [0.13333334, 0.10196079, 0.05882353],\n",
              "         ...,\n",
              "         [0.10588235, 0.09411765, 0.20392157],\n",
              "         [0.10588235, 0.09411765, 0.21960784],\n",
              "         [0.09803922, 0.08627451, 0.18431373]],\n",
              "\n",
              "        [[0.12156863, 0.09019608, 0.04705882],\n",
              "         [0.1254902 , 0.09411765, 0.05098039],\n",
              "         [0.12941177, 0.09803922, 0.05490196],\n",
              "         ...,\n",
              "         [0.09411765, 0.09019608, 0.19607843],\n",
              "         [0.10196079, 0.09019608, 0.20784314],\n",
              "         [0.09803922, 0.07843138, 0.18431373]]],\n",
              "\n",
              "\n",
              "       [[[0.09803922, 0.15686275, 0.04705882],\n",
              "         [0.05882353, 0.14117648, 0.01176471],\n",
              "         [0.09019608, 0.16078432, 0.07058824],\n",
              "         ...,\n",
              "         [0.23921569, 0.32156864, 0.30588236],\n",
              "         [0.36078432, 0.44313726, 0.4392157 ],\n",
              "         [0.29411766, 0.34901962, 0.36078432]],\n",
              "\n",
              "        [[0.04705882, 0.09803922, 0.02352941],\n",
              "         [0.07843138, 0.14509805, 0.02745098],\n",
              "         [0.09411765, 0.14117648, 0.05882353],\n",
              "         ...,\n",
              "         [0.4509804 , 0.5254902 , 0.5411765 ],\n",
              "         [0.58431375, 0.65882355, 0.69411767],\n",
              "         [0.40784314, 0.45882353, 0.5137255 ]],\n",
              "\n",
              "        [[0.04705882, 0.09803922, 0.04313726],\n",
              "         [0.05882353, 0.11372549, 0.02352941],\n",
              "         [0.13333334, 0.15686275, 0.09411765],\n",
              "         ...,\n",
              "         [0.6039216 , 0.6745098 , 0.7137255 ],\n",
              "         [0.6156863 , 0.6862745 , 0.7529412 ],\n",
              "         [0.45490196, 0.5058824 , 0.5921569 ]],\n",
              "\n",
              "        ...,\n",
              "\n",
              "        [[0.39215687, 0.5058824 , 0.31764707],\n",
              "         [0.40392157, 0.5176471 , 0.32941177],\n",
              "         [0.40784314, 0.5254902 , 0.3372549 ],\n",
              "         ...,\n",
              "         [0.38039216, 0.5019608 , 0.32941177],\n",
              "         [0.38431373, 0.49411765, 0.32941177],\n",
              "         [0.35686275, 0.4745098 , 0.30980393]],\n",
              "\n",
              "        [[0.40392157, 0.5176471 , 0.3254902 ],\n",
              "         [0.40784314, 0.5137255 , 0.3254902 ],\n",
              "         [0.41960785, 0.5294118 , 0.34117648],\n",
              "         ...,\n",
              "         [0.39607844, 0.5176471 , 0.34117648],\n",
              "         [0.3882353 , 0.49803922, 0.32941177],\n",
              "         [0.36078432, 0.4745098 , 0.30980393]],\n",
              "\n",
              "        [[0.37254903, 0.49411765, 0.30588236],\n",
              "         [0.37254903, 0.48235294, 0.29803923],\n",
              "         [0.39607844, 0.5019608 , 0.31764707],\n",
              "         ...,\n",
              "         [0.3647059 , 0.4862745 , 0.3137255 ],\n",
              "         [0.37254903, 0.48235294, 0.31764707],\n",
              "         [0.36078432, 0.47058824, 0.3137255 ]]],\n",
              "\n",
              "\n",
              "       [[[0.28627452, 0.30588236, 0.29411766],\n",
              "         [0.38431373, 0.40392157, 0.44313726],\n",
              "         [0.3882353 , 0.41568628, 0.44705883],\n",
              "         ...,\n",
              "         [0.5294118 , 0.5882353 , 0.59607846],\n",
              "         [0.5294118 , 0.58431375, 0.6039216 ],\n",
              "         [0.79607844, 0.84313726, 0.8745098 ]],\n",
              "\n",
              "        [[0.27058825, 0.28627452, 0.27450982],\n",
              "         [0.32941177, 0.34901962, 0.38039216],\n",
              "         [0.26666668, 0.29411766, 0.31764707],\n",
              "         ...,\n",
              "         [0.33333334, 0.37254903, 0.34901962],\n",
              "         [0.2784314 , 0.32156864, 0.3137255 ],\n",
              "         [0.47058824, 0.52156866, 0.5294118 ]],\n",
              "\n",
              "        [[0.27058825, 0.28627452, 0.27450982],\n",
              "         [0.3529412 , 0.37254903, 0.39215687],\n",
              "         [0.24313726, 0.2784314 , 0.2901961 ],\n",
              "         ...,\n",
              "         [0.2901961 , 0.31764707, 0.27450982],\n",
              "         [0.20784314, 0.24313726, 0.21176471],\n",
              "         [0.24313726, 0.2901961 , 0.27058825]],\n",
              "\n",
              "        ...,\n",
              "\n",
              "        [[0.48235294, 0.5019608 , 0.3764706 ],\n",
              "         [0.5176471 , 0.5176471 , 0.4       ],\n",
              "         [0.5058824 , 0.5019608 , 0.39215687],\n",
              "         ...,\n",
              "         [0.42352942, 0.41960785, 0.34509805],\n",
              "         [0.24313726, 0.23529412, 0.21568628],\n",
              "         [0.10588235, 0.10588235, 0.10980392]],\n",
              "\n",
              "        [[0.4509804 , 0.4745098 , 0.35686275],\n",
              "         [0.48235294, 0.4862745 , 0.37254903],\n",
              "         [0.5058824 , 0.49411765, 0.3882353 ],\n",
              "         ...,\n",
              "         [0.4509804 , 0.45490196, 0.36862746],\n",
              "         [0.25882354, 0.25490198, 0.23137255],\n",
              "         [0.10588235, 0.10588235, 0.10588235]],\n",
              "\n",
              "        [[0.45490196, 0.47058824, 0.3529412 ],\n",
              "         [0.4745098 , 0.47843137, 0.36862746],\n",
              "         [0.5058824 , 0.5019608 , 0.39607844],\n",
              "         ...,\n",
              "         [0.45490196, 0.4509804 , 0.36862746],\n",
              "         [0.26666668, 0.25490198, 0.22745098],\n",
              "         [0.10588235, 0.10196079, 0.10196079]]]], dtype=float32)"
            ]
          },
          "metadata": {
            "tags": []
          },
          "execution_count": 47
        }
      ]
    },
    {
      "cell_type": "code",
      "metadata": {
        "id": "SedSUTjLPllu",
        "colab_type": "code",
        "colab": {
          "base_uri": "https://localhost:8080/",
          "height": 34
        },
        "outputId": "195a37d6-04a7-49e4-9e1f-703a4a21aae3"
      },
      "source": [
        "testX.shape"
      ],
      "execution_count": 48,
      "outputs": [
        {
          "output_type": "execute_result",
          "data": {
            "text/plain": [
              "(10000, 32, 32, 3)"
            ]
          },
          "metadata": {
            "tags": []
          },
          "execution_count": 48
        }
      ]
    },
    {
      "cell_type": "code",
      "metadata": {
        "id": "zL-W_J3xP5xA",
        "colab_type": "code",
        "colab": {
          "base_uri": "https://localhost:8080/",
          "height": 306
        },
        "outputId": "33a94d94-26be-4474-ef88-6611cdf4584d"
      },
      "source": [
        "print(classification_report(testY.argmax(axis=1),\n",
        "\tpredictions.argmax(axis=1), target_names=labelNames))"
      ],
      "execution_count": 50,
      "outputs": [
        {
          "output_type": "stream",
          "text": [
            "              precision    recall  f1-score   support\n",
            "\n",
            "    airplane       0.92      0.88      0.90      1000\n",
            "  automobile       0.85      0.98      0.91      1000\n",
            "        bird       0.92      0.80      0.85      1000\n",
            "         cat       0.78      0.77      0.78      1000\n",
            "        deer       0.87      0.88      0.88      1000\n",
            "         dog       0.92      0.69      0.79      1000\n",
            "        frog       0.86      0.94      0.90      1000\n",
            "       horse       0.80      0.96      0.87      1000\n",
            "        ship       0.95      0.93      0.94      1000\n",
            "       truck       0.92      0.91      0.92      1000\n",
            "\n",
            "    accuracy                           0.87     10000\n",
            "   macro avg       0.88      0.87      0.87     10000\n",
            "weighted avg       0.88      0.87      0.87     10000\n",
            "\n"
          ],
          "name": "stdout"
        }
      ]
    },
    {
      "cell_type": "code",
      "metadata": {
        "id": "aH1guMHUP-lh",
        "colab_type": "code",
        "colab": {}
      },
      "source": [
        "N = np.arange(0, NUM_EPOCHS)\n",
        "title = \"Training Loss and Accuracy on CIFAR-10 ({})\".format(\"functional\")"
      ],
      "execution_count": 57,
      "outputs": []
    },
    {
      "cell_type": "code",
      "metadata": {
        "id": "550Gpfc4QS4y",
        "colab_type": "code",
        "colab": {
          "base_uri": "https://localhost:8080/",
          "height": 316
        },
        "outputId": "48d51e39-af57-4044-a2a2-d02c64f31b33"
      },
      "source": [
        "plt.style.use(\"ggplot\")\n",
        "plt.figure()\n",
        "plt.plot(N, H.history[\"loss\"], label=\"train_loss\")\n",
        "plt.plot(N, H.history[\"val_loss\"], label=\"val_loss\")\n",
        "plt.plot(N, H.history[\"accuracy\"], label=\"train_acc\")\n",
        "plt.plot(N, H.history[\"val_accuracy\"], label=\"val_acc\")\n",
        "plt.title(title)\n",
        "plt.xlabel(\"Epoch #\")\n",
        "plt.ylabel(\"Loss/Accuracy\")\n",
        "plt.legend()\n"
      ],
      "execution_count": 74,
      "outputs": [
        {
          "output_type": "execute_result",
          "data": {
            "text/plain": [
              "<matplotlib.legend.Legend at 0x7f89e31843c8>"
            ]
          },
          "metadata": {
            "tags": []
          },
          "execution_count": 74
        },
        {
          "output_type": "display_data",
          "data": {
            "image/png": "[encoded data removed]",
            "text/plain": [
              "<Figure size 432x288 with 1 Axes>"
            ]
          },
          "metadata": {
            "tags": []
          }
        }
      ]
    },
    {
      "cell_type": "code",
      "metadata": {
        "id": "FtblbgQyQdym",
        "colab_type": "code",
        "colab": {}
      },
      "source": [
        "plt.imshow(testX[0])\n",
        "plt.show()"
      ],
      "execution_count": 65,
      "outputs": []
    },
    {
      "cell_type": "code",
      "metadata": {
        "id": "GOglNUAeQ1D3",
        "colab_type": "code",
        "colab": {}
      },
      "source": [
        "import matplotlib.pyplot as plt\n"
      ],
      "execution_count": 60,
      "outputs": []
    },
    {
      "cell_type": "code",
      "metadata": {
        "id": "b9NRlt9rRJb5",
        "colab_type": "code",
        "colab": {
          "base_uri": "https://localhost:8080/",
          "height": 283
        },
        "outputId": "0c68b433-7ce0-4c92-e2c9-11737005239e"
      },
      "source": [
        "\n",
        "plt.imshow(testX[100])"
      ],
      "execution_count": 73,
      "outputs": [
        {
          "output_type": "execute_result",
          "data": {
            "text/plain": [
              "<matplotlib.image.AxesImage at 0x7f89e31a7e10>"
            ]
          },
          "metadata": {
            "tags": []
          },
          "execution_count": 73
        },
        {
          "output_type": "display_data",
          "data": {
            "image/png": "[encoded data removed]",
            "text/plain": [
              "<Figure size 432x288 with 1 Axes>"
            ]
          },
          "metadata": {
            "tags": [],
            "needs_background": "light"
          }
        }
      ]
    },
    {
      "cell_type": "code",
      "metadata": {
        "id": "4Tnd0ev6RK2h",
        "colab_type": "code",
        "colab": {}
      },
      "source": [
        "import cv2"
      ],
      "execution_count": 62,
      "outputs": []
    },
    {
      "cell_type": "code",
      "metadata": {
        "id": "a-kPzumLROgE",
        "colab_type": "code",
        "colab": {
          "base_uri": "https://localhost:8080/",
          "height": 334
        },
        "outputId": "7700292f-3587-4789-faf9-b2a22d471c78"
      },
      "source": [
        "cv2.imshow(testX[0])"
      ],
      "execution_count": 63,
      "outputs": [
        {
          "output_type": "error",
          "ename": "DisabledFunctionError",
          "evalue": "ignored",
          "traceback": [
            "\u001b[0;31m---------------------------------------------------------------------------\u001b[0m",
            "\u001b[0;31mDisabledFunctionError\u001b[0m                     Traceback (most recent call last)",
            "\u001b[0;32m<ipython-input-63-8548912d629e>\u001b[0m in \u001b[0;36m<module>\u001b[0;34m()\u001b[0m\n\u001b[0;32m----> 1\u001b[0;31m \u001b[0mcv2\u001b[0m\u001b[0;34m.\u001b[0m\u001b[0mimshow\u001b[0m\u001b[0;34m(\u001b[0m\u001b[0mtestX\u001b[0m\u001b[0;34m[\u001b[0m\u001b[0;36m0\u001b[0m\u001b[0;34m]\u001b[0m\u001b[0;34m)\u001b[0m\u001b[0;34m\u001b[0m\u001b[0;34m\u001b[0m\u001b[0m\n\u001b[0m",
            "\u001b[0;32m/usr/local/lib/python3.6/dist-packages/google/colab/_import_hooks/_cv2.py\u001b[0m in \u001b[0;36mwrapped\u001b[0;34m(*args, **kwargs)\u001b[0m\n\u001b[1;32m     50\u001b[0m   \u001b[0;32mdef\u001b[0m \u001b[0mwrapped\u001b[0m\u001b[0;34m(\u001b[0m\u001b[0;34m*\u001b[0m\u001b[0margs\u001b[0m\u001b[0;34m,\u001b[0m \u001b[0;34m**\u001b[0m\u001b[0mkwargs\u001b[0m\u001b[0;34m)\u001b[0m\u001b[0;34m:\u001b[0m\u001b[0;34m\u001b[0m\u001b[0;34m\u001b[0m\u001b[0m\n\u001b[1;32m     51\u001b[0m     \u001b[0;32mif\u001b[0m \u001b[0;32mnot\u001b[0m \u001b[0mos\u001b[0m\u001b[0;34m.\u001b[0m\u001b[0menviron\u001b[0m\u001b[0;34m.\u001b[0m\u001b[0mget\u001b[0m\u001b[0;34m(\u001b[0m\u001b[0menv_var\u001b[0m\u001b[0;34m,\u001b[0m \u001b[0;32mFalse\u001b[0m\u001b[0;34m)\u001b[0m\u001b[0;34m:\u001b[0m\u001b[0;34m\u001b[0m\u001b[0;34m\u001b[0m\u001b[0m\n\u001b[0;32m---> 52\u001b[0;31m       \u001b[0;32mraise\u001b[0m \u001b[0mDisabledFunctionError\u001b[0m\u001b[0;34m(\u001b[0m\u001b[0mmessage\u001b[0m\u001b[0;34m,\u001b[0m \u001b[0mname\u001b[0m \u001b[0;32mor\u001b[0m \u001b[0mfunc\u001b[0m\u001b[0;34m.\u001b[0m\u001b[0m__name__\u001b[0m\u001b[0;34m)\u001b[0m\u001b[0;34m\u001b[0m\u001b[0;34m\u001b[0m\u001b[0m\n\u001b[0m\u001b[1;32m     53\u001b[0m     \u001b[0;32mreturn\u001b[0m \u001b[0mfunc\u001b[0m\u001b[0;34m(\u001b[0m\u001b[0;34m*\u001b[0m\u001b[0margs\u001b[0m\u001b[0;34m,\u001b[0m \u001b[0;34m**\u001b[0m\u001b[0mkwargs\u001b[0m\u001b[0;34m)\u001b[0m\u001b[0;34m\u001b[0m\u001b[0;34m\u001b[0m\u001b[0m\n\u001b[1;32m     54\u001b[0m \u001b[0;34m\u001b[0m\u001b[0m\n",
            "\u001b[0;31mDisabledFunctionError\u001b[0m: cv2.imshow() is disabled in Colab, because it causes Jupyter sessions\nto crash; see https://github.com/jupyter/notebook/issues/3935.\nAs a substitution, consider using\n  from google.colab.patches import cv2_imshow\n"
          ]
        }
      ]
    },
    {
      "cell_type": "code",
      "metadata": {
        "id": "PvLOhUUPRS-c",
        "colab_type": "code",
        "colab": {}
      },
      "source": [
        ""
      ],
      "execution_count": null,
      "outputs": []
    }
  ]
}