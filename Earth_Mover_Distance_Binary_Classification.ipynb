{
  "nbformat": 4,
  "nbformat_minor": 0,
  "metadata": {
    "colab": {
      "name": "Earth Mover Distance Binary Classification.ipynb",
      "provenance": [],
      "collapsed_sections": [],
      "include_colab_link": true
    },
    "kernelspec": {
      "name": "python3",
      "display_name": "Python 3"
    },
    "accelerator": "GPU"
  },
  "cells": [
    {
      "cell_type": "markdown",
      "metadata": {
        "id": "view-in-github",
        "colab_type": "text"
      },
      "source": [
        "<a href=\"https://colab.research.google.com/github/vinayak-pathak/pyprac_f/blob/master/Earth_Mover_Distance_Binary_Classification.ipynb\" target=\"_parent\"><img src=\"https://colab.research.google.com/assets/colab-badge.svg\" alt=\"Open In Colab\"/></a>"
      ]
    },
    {
      "cell_type": "code",
      "metadata": {
        "id": "R9a8JhMSooax",
        "colab_type": "code",
        "colab": {}
      },
      "source": [
        "!pip3 install tensorflow_datasets\n",
        "!pip3 install tensorflow-gpu==2.0.0-rc0"
      ],
      "execution_count": null,
      "outputs": []
    },
    {
      "cell_type": "code",
      "metadata": {
        "id": "ib4x3kKBzRwi",
        "colab_type": "code",
        "colab": {}
      },
      "source": [
        "!nvidia-smi"
      ],
      "execution_count": null,
      "outputs": []
    },
    {
      "cell_type": "code",
      "metadata": {
        "id": "16H0VrkPo3we",
        "colab_type": "code",
        "colab": {
          "base_uri": "https://localhost:8080/",
          "height": 35
        },
        "outputId": "f019dff0-747f-4154-e0e1-c3446ceef1ab"
      },
      "source": [
        "import tensorflow as tf\n",
        "import tensorflow_datasets as tfds\n",
        "import matplotlib.pyplot as plt\n",
        "import numpy as np\n",
        "print(tf.__version__)"
      ],
      "execution_count": null,
      "outputs": [
        {
          "output_type": "stream",
          "text": [
            "2.0.0-rc0\n"
          ],
          "name": "stdout"
        }
      ]
    },
    {
      "cell_type": "code",
      "metadata": {
        "id": "bpeQz_6AtLvI",
        "colab_type": "code",
        "colab": {
          "base_uri": "https://localhost:8080/",
          "height": 255,
          "referenced_widgets": [
            "efdb4615785349e1bf01e4fd1649e470",
            "640da30559c84fde8909e8986083f189",
            "9984103e6be14252802f7deab0c1fa53",
            "a37bab1f0d5b4533b94ce1b651bf0c3c",
            "cbfa9a59486e4fee8682c86151be192d",
            "1fe3b262fc2740ee8ee154449efc9da3"
          ]
        },
        "outputId": "60ba7ac5-7c08-4d08-82a2-b028d041baf1"
      },
      "source": [
        "# Get Data\n",
        "BATCH_SIZE = 100\n",
        "TOTAL_SIZE = 1309\n",
        "test = tfds.Split.TRAIN.subsplit(tfds.percent[-25:])\n",
        "train = tfds.Split.TRAIN.subsplit(tfds.percent[:75])\n",
        "train_ds = tfds.load('titanic', split=train)\n",
        "test_ds = tfds.load('titanic', split=test)\n",
        "\n",
        "train_ds = train_ds.map(lambda ele: tuple((ele['features'], ele['survived']))).batch(BATCH_SIZE).repeat()\n",
        "test_ds = test_ds.map(lambda ele: tuple((ele['features'], ele['survived']))).batch(BATCH_SIZE).repeat()"
      ],
      "execution_count": null,
      "outputs": [
        {
          "output_type": "stream",
          "text": [
            "\u001b[1mDownloading and preparing dataset titanic (114.98 KiB) to /root/tensorflow_datasets/titanic/1.0.0...\u001b[0m\n"
          ],
          "name": "stdout"
        },
        {
          "output_type": "display_data",
          "data": {
            "application/vnd.jupyter.widget-view+json": {
              "model_id": "efdb4615785349e1bf01e4fd1649e470",
              "version_minor": 0,
              "version_major": 2
            },
            "text/plain": [
              "HBox(children=(IntProgress(value=1, bar_style='info', description='Dl Completed...', max=1, style=ProgressStyl…"
            ]
          },
          "metadata": {
            "tags": []
          }
        },
        {
          "output_type": "display_data",
          "data": {
            "application/vnd.jupyter.widget-view+json": {
              "model_id": "640da30559c84fde8909e8986083f189",
              "version_minor": 0,
              "version_major": 2
            },
            "text/plain": [
              "HBox(children=(IntProgress(value=1, bar_style='info', description='Dl Size...', max=1, style=ProgressStyle(des…"
            ]
          },
          "metadata": {
            "tags": []
          }
        },
        {
          "output_type": "stream",
          "text": [
            "\n",
            "\n",
            "\n"
          ],
          "name": "stdout"
        },
        {
          "output_type": "stream",
          "text": [
            "/usr/local/lib/python3.6/dist-packages/urllib3/connectionpool.py:847: InsecureRequestWarning: Unverified HTTPS request is being made. Adding certificate verification is strongly advised. See: https://urllib3.readthedocs.io/en/latest/advanced-usage.html#ssl-warnings\n",
            "  InsecureRequestWarning)\n"
          ],
          "name": "stderr"
        },
        {
          "output_type": "display_data",
          "data": {
            "application/vnd.jupyter.widget-view+json": {
              "model_id": "9984103e6be14252802f7deab0c1fa53",
              "version_minor": 0,
              "version_major": 2
            },
            "text/plain": [
              "HBox(children=(IntProgress(value=1, bar_style='info', max=1), HTML(value='')))"
            ]
          },
          "metadata": {
            "tags": []
          }
        },
        {
          "output_type": "stream",
          "text": [
            "\r"
          ],
          "name": "stdout"
        },
        {
          "output_type": "display_data",
          "data": {
            "application/vnd.jupyter.widget-view+json": {
              "model_id": "a37bab1f0d5b4533b94ce1b651bf0c3c",
              "version_minor": 0,
              "version_major": 2
            },
            "text/plain": [
              "HBox(children=(IntProgress(value=0, description='Shuffling...', max=1, style=ProgressStyle(description_width='…"
            ]
          },
          "metadata": {
            "tags": []
          }
        },
        {
          "output_type": "stream",
          "text": [
            "WARNING: Logging before flag parsing goes to stderr.\n",
            "W0903 04:35:26.431784 139704197355392 deprecation.py:323] From /usr/local/lib/python3.6/dist-packages/tensorflow_datasets/core/file_format_adapter.py:209: tf_record_iterator (from tensorflow.python.lib.io.tf_record) is deprecated and will be removed in a future version.\n",
            "Instructions for updating:\n",
            "Use eager execution and: \n",
            "`tf.data.TFRecordDataset(path)`\n"
          ],
          "name": "stderr"
        },
        {
          "output_type": "display_data",
          "data": {
            "application/vnd.jupyter.widget-view+json": {
              "model_id": "cbfa9a59486e4fee8682c86151be192d",
              "version_minor": 0,
              "version_major": 2
            },
            "text/plain": [
              "HBox(children=(IntProgress(value=1, bar_style='info', description='Reading...', max=1, style=ProgressStyle(des…"
            ]
          },
          "metadata": {
            "tags": []
          }
        },
        {
          "output_type": "display_data",
          "data": {
            "application/vnd.jupyter.widget-view+json": {
              "model_id": "1fe3b262fc2740ee8ee154449efc9da3",
              "version_minor": 0,
              "version_major": 2
            },
            "text/plain": [
              "HBox(children=(IntProgress(value=0, description='Writing...', max=1309, style=ProgressStyle(description_width=…"
            ]
          },
          "metadata": {
            "tags": []
          }
        },
        {
          "output_type": "stream",
          "text": [
            "\r\u001b[1mDataset titanic downloaded and prepared to /root/tensorflow_datasets/titanic/1.0.0. Subsequent calls will reuse this data.\u001b[0m\n"
          ],
          "name": "stdout"
        }
      ]
    },
    {
      "cell_type": "code",
      "metadata": {
        "id": "OvT8Do-qu3XF",
        "colab_type": "code",
        "colab": {
          "base_uri": "https://localhost:8080/",
          "height": 35
        },
        "outputId": "6e618b7a-b9f8-4d6b-d6ab-9a5a06601330"
      },
      "source": [
        "def preview_data(feature_column):\n",
        "  feature_layer = tf.keras.layers.DenseFeatures(feature_column)\n",
        "  return feature_layer(feature_batch).numpy()\n",
        "\n",
        "for feature_batch, label_batch in train_ds.take(1):\n",
        "  print('Every feature:', list(feature_batch.keys()))"
      ],
      "execution_count": null,
      "outputs": [
        {
          "output_type": "stream",
          "text": [
            "Every feature: ['age', 'boat', 'body', 'cabin', 'embarked', 'fare', 'home.dest', 'name', 'parch', 'pclass', 'sex', 'sibsp', 'ticket']\n"
          ],
          "name": "stdout"
        }
      ]
    },
    {
      "cell_type": "code",
      "metadata": {
        "id": "38hB3cVzwdDt",
        "colab_type": "code",
        "colab": {}
      },
      "source": [
        "\n",
        "pclass = tf.feature_column.indicator_column(\n",
        "            tf.feature_column.categorical_column_with_identity('pclass', 3)\n",
        "         )\n",
        "home = tf.feature_column.indicator_column(\n",
        "          tf.feature_column.categorical_column_with_hash_bucket('home.dest', 50)\n",
        "       )\n",
        "\n",
        "age = tf.feature_column.numeric_column('age')\n",
        "sex = tf.feature_column.numeric_column('sex')\n",
        "sibsp = tf.feature_column.numeric_column('sibsp')\n",
        "parch = tf.feature_column.numeric_column('parch')\n",
        "fare = tf.feature_column.numeric_column('fare')\n",
        "\n",
        "feature_columns = [age, sex, sibsp, parch, fare, home, pclass]"
      ],
      "execution_count": null,
      "outputs": []
    },
    {
      "cell_type": "code",
      "metadata": {
        "id": "QWzDyiHzd3ZX",
        "colab_type": "code",
        "colab": {
          "base_uri": "https://localhost:8080/",
          "height": 145
        },
        "outputId": "76db759e-5367-4e31-d8ef-1e11cd4451c1"
      },
      "source": [
        "feature_columns"
      ],
      "execution_count": null,
      "outputs": [
        {
          "output_type": "execute_result",
          "data": {
            "text/plain": [
              "[NumericColumn(key='age', shape=(1,), default_value=None, dtype=tf.float32, normalizer_fn=None),\n",
              " NumericColumn(key='sex', shape=(1,), default_value=None, dtype=tf.float32, normalizer_fn=None),\n",
              " NumericColumn(key='sibsp', shape=(1,), default_value=None, dtype=tf.float32, normalizer_fn=None),\n",
              " NumericColumn(key='parch', shape=(1,), default_value=None, dtype=tf.float32, normalizer_fn=None),\n",
              " NumericColumn(key='fare', shape=(1,), default_value=None, dtype=tf.float32, normalizer_fn=None),\n",
              " IndicatorColumn(categorical_column=HashedCategoricalColumn(key='home.dest', hash_bucket_size=50, dtype=tf.string)),\n",
              " IndicatorColumn(categorical_column=IdentityCategoricalColumn(key='pclass', number_buckets=3, default_value=None))]"
            ]
          },
          "metadata": {
            "tags": []
          },
          "execution_count": 26
        }
      ]
    },
    {
      "cell_type": "code",
      "metadata": {
        "id": "VI6wyN9gnFls",
        "colab_type": "code",
        "colab": {
          "base_uri": "https://localhost:8080/",
          "height": 35
        },
        "outputId": "b61d6b71-c7d3-44de-9673-a34b7142106f"
      },
      "source": [
        "preview_data(feature_columns).shape"
      ],
      "execution_count": null,
      "outputs": [
        {
          "output_type": "execute_result",
          "data": {
            "text/plain": [
              "(100, 58)"
            ]
          },
          "metadata": {
            "tags": []
          },
          "execution_count": 7
        }
      ]
    },
    {
      "cell_type": "code",
      "metadata": {
        "id": "JdlZCp-ByTnz",
        "colab_type": "code",
        "colab": {}
      },
      "source": [
        "model = tf.keras.Sequential([\n",
        "  tf.keras.layers.DenseFeatures(feature_columns),\n",
        "  tf.keras.layers.Dense(1, activation='sigmoid'),\n",
        "])\n",
        "\n",
        "model.compile('adam', loss='binary_crossentropy', metrics=[tf.keras.metrics.AUC()])\n",
        "model.fit(train_ds, steps_per_epoch=int(TOTAL_SIZE*0.75), \n",
        "          validation_data=test_ds, \n",
        "          validation_steps=int(TOTAL_SIZE*0.25),\n",
        "          epochs=10)"
      ],
      "execution_count": null,
      "outputs": []
    },
    {
      "cell_type": "code",
      "metadata": {
        "id": "u8ijFT_PvtlZ",
        "colab_type": "code",
        "colab": {}
      },
      "source": [
        "model.summary()"
      ],
      "execution_count": null,
      "outputs": []
    },
    {
      "cell_type": "code",
      "metadata": {
        "id": "v24dys_Vcr6Y",
        "colab_type": "code",
        "colab": {}
      },
      "source": [
        "# Functional API method\n",
        "feature_layer_inputs = {\n",
        "    'age': tf.keras.Input(shape=(1,), name='age'),\n",
        "    'sex': tf.keras.Input(shape=(1,), name='sex'),\n",
        "    'sibsp': tf.keras.Input(shape=(1,), name='sibsp'),\n",
        "    'parch': tf.keras.Input(shape=(1,), name='parch'),\n",
        "    'fare': tf.keras.Input(shape=(1,), name='fare'),\n",
        "    'home.dest': tf.keras.Input(shape=(1,), name='home.dest', dtype=tf.string),\n",
        "    'pclass': tf.keras.Input(shape=(1,), name='pclass', dtype=tf.int32)\n",
        "}\n",
        "\n",
        "feature_layer_outputs = tf.keras.layers.DenseFeatures(feature_columns)(feature_layer_inputs)\n",
        "x = tf.keras.layers.Dense(1, activation='sigmoid')(feature_layer_outputs)\n",
        "model = tf.keras.models.Model(inputs=[v for v in feature_layer_inputs.values()], outputs=x)\n",
        "\n",
        "model.summary()"
      ],
      "execution_count": null,
      "outputs": []
    },
    {
      "cell_type": "code",
      "metadata": {
        "id": "pZ8vE_XDCTWM",
        "colab_type": "code",
        "colab": {
          "base_uri": "https://localhost:8080/",
          "height": 287
        },
        "outputId": "c6e05e71-565c-4a15-b23b-b8ffffd719c1"
      },
      "source": [
        "import seaborn as sns\n",
        "predicted_dead = model.predict(feature_batch)[label_batch==0]\n",
        "predicted_alive = model.predict(feature_batch)[label_batch==1]\n",
        "sns.distplot(predicted_dead, bins=20)\n",
        "sns.distplot(predicted_alive, bins=20)"
      ],
      "execution_count": null,
      "outputs": [
        {
          "output_type": "execute_result",
          "data": {
            "text/plain": [
              "<matplotlib.axes._subplots.AxesSubplot at 0x7f6337bd2ba8>"
            ]
          },
          "metadata": {
            "tags": []
          },
          "execution_count": 29
        },
        {
          "output_type": "display_data",
          "data": {
            "image/png": "[encoded data removed]",
            "text/plain": [
              "<Figure size 432x288 with 1 Axes>"
            ]
          },
          "metadata": {
            "tags": []
          }
        }
      ]
    }
  ]
}