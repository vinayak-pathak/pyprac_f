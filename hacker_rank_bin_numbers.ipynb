{
 "cells": [
  {
   "cell_type": "markdown",
   "metadata": {},
   "source": [
    "# Day 10: Binary Numbers"
   ]
  },
  {
   "cell_type": "markdown",
   "metadata": {},
   "source": [
    "## Objective \n",
    "Today, we're working with binary numbers. Check out the Tutorial tab for learning materials and an instructional video!\n",
    "- Task \n",
    "Given a base- integer, , convert it to binary (base-). Then find and print the base- integer denoting the maximum number of consecutive 's in 's binary representation.\n",
    "-- Input Format\n",
    "A single integer, .\n",
    "Constraints \n",
    "\n",
    "- Output Format\n",
    "Print a single base- integer denoting the maximum number of consecutive 's in the binary representation of .\n",
    "- Sample Input 1\n",
    "5\n",
    "- Sample Output 1\n",
    "1\n",
    "- Sample Input 2\n",
    "13\n",
    "- Sample Output 2\n",
    "2\n",
    "## Explanation\n",
    "- Sample Case 1: \n",
    "The binary representation of  is , so the maximum number of consecutive 's is .\n",
    "- Sample Case 2: \n",
    "The binary representation of  is , so the maximum number of consecutive 's is ."
   ]
  },
  {
   "cell_type": "markdown",
   "metadata": {},
   "source": [
    "!https://www.hackerrank.com/challenges/30-binary-numbers/problem"
   ]
  },
  {
   "cell_type": "code",
   "execution_count": null,
   "metadata": {},
   "outputs": [],
   "source": []
  },
  {
   "cell_type": "code",
   "execution_count": 3,
   "metadata": {},
   "outputs": [],
   "source": [
    "import math\n",
    "import os\n",
    "import random\n",
    "import re\n",
    "import sys\n"
   ]
  },
  {
   "cell_type": "code",
   "execution_count": null,
   "metadata": {},
   "outputs": [],
   "source": []
  },
  {
   "cell_type": "code",
   "execution_count": 69,
   "metadata": {},
   "outputs": [
    {
     "data": {
      "text/plain": [
       "'0b11'"
      ]
     },
     "execution_count": 69,
     "metadata": {},
     "output_type": "execute_result"
    }
   ],
   "source": [
    "bin(3)\n",
    "    "
   ]
  },
  {
   "cell_type": "code",
   "execution_count": 5,
   "metadata": {},
   "outputs": [
    {
     "name": "stdout",
     "output_type": "stream",
     "text": [
      "/root\n"
     ]
    }
   ],
   "source": [
    "cd"
   ]
  },
  {
   "cell_type": "code",
   "execution_count": 7,
   "metadata": {},
   "outputs": [
    {
     "data": {
      "text/plain": [
       "'0b101'"
      ]
     },
     "execution_count": 7,
     "metadata": {},
     "output_type": "execute_result"
    }
   ],
   "source": [
    "bin(5)"
   ]
  },
  {
   "cell_type": "code",
   "execution_count": 42,
   "metadata": {},
   "outputs": [],
   "source": [
    "a=list(bin(6)[2::])"
   ]
  },
  {
   "cell_type": "code",
   "execution_count": 43,
   "metadata": {},
   "outputs": [
    {
     "data": {
      "text/plain": [
       "['1', '1', '0']"
      ]
     },
     "execution_count": 43,
     "metadata": {},
     "output_type": "execute_result"
    }
   ],
   "source": [
    "len"
   ]
  },
  {
   "cell_type": "code",
   "execution_count": 62,
   "metadata": {},
   "outputs": [
    {
     "data": {
      "text/plain": [
       "3"
      ]
     },
     "execution_count": 62,
     "metadata": {},
     "output_type": "execute_result"
    }
   ],
   "source": [
    "len(a)"
   ]
  },
  {
   "cell_type": "code",
   "execution_count": 77,
   "metadata": {},
   "outputs": [],
   "source": [
    "counter = 0;"
   ]
  },
  {
   "cell_type": "code",
   "execution_count": 78,
   "metadata": {},
   "outputs": [],
   "source": [
    "for c, value in list(enumerate(a)):\n",
    "    if c < (len(a)-1):\n",
    "        if (a[c] == a[c+1]) and (a[c] == '1'):\n",
    "            counter+=1\n"
   ]
  },
  {
   "cell_type": "code",
   "execution_count": 79,
   "metadata": {},
   "outputs": [
    {
     "name": "stdout",
     "output_type": "stream",
     "text": [
      "number of occurrences of consecutive ones in string  is 1\n"
     ]
    }
   ],
   "source": [
    "print(\"number of occurrences of consecutive ones in string  is {}\".format(counter))"
   ]
  },
  {
   "cell_type": "code",
   "execution_count": 76,
   "metadata": {},
   "outputs": [
    {
     "data": {
      "text/plain": [
       "2"
      ]
     },
     "execution_count": 76,
     "metadata": {},
     "output_type": "execute_result"
    }
   ],
   "source": [
    "c"
   ]
  },
  {
   "cell_type": "code",
   "execution_count": 28,
   "metadata": {},
   "outputs": [],
   "source": [
    "a=['Gobhhi', 'Bhindi', 'Gajar']"
   ]
  },
  {
   "cell_type": "code",
   "execution_count": 29,
   "metadata": {},
   "outputs": [],
   "source": [
    "b=['12', '13', '16']\n"
   ]
  },
  {
   "cell_type": "code",
   "execution_count": 37,
   "metadata": {},
   "outputs": [],
   "source": [
    "c=list(zip(a, b))"
   ]
  },
  {
   "cell_type": "code",
   "execution_count": 39,
   "metadata": {},
   "outputs": [
    {
     "data": {
      "text/plain": [
       "[('Gobhhi', '12'), ('Bhindi', '13'), ('Gajar', '16')]"
      ]
     },
     "execution_count": 39,
     "metadata": {},
     "output_type": "execute_result"
    }
   ],
   "source": [
    "c"
   ]
  },
  {
   "cell_type": "code",
   "execution_count": null,
   "metadata": {},
   "outputs": [],
   "source": []
  },
  {
   "cell_type": "markdown",
   "metadata": {},
   "source": [
    "## Final Code"
   ]
  },
  {
   "cell_type": "code",
   "execution_count": 88,
   "metadata": {},
   "outputs": [
    {
     "name": "stdin",
     "output_type": "stream",
     "text": [
      " 15\n"
     ]
    },
    {
     "name": "stdout",
     "output_type": "stream",
     "text": [
      "Binary of number 15 is 1111 and number of consecutive occurences in 3\n"
     ]
    }
   ],
   "source": [
    "import math\n",
    "import os\n",
    "import random\n",
    "import re\n",
    "import sys\n",
    "\n",
    "\n",
    "def main():\n",
    "    \n",
    "    \n",
    "    a = list(bin(int(n))[2::])\n",
    "    \n",
    "    counter = 0\n",
    "    \n",
    "    for c, value in list(enumerate(a)):\n",
    "        if c < (len(a)-1):\n",
    "            if (a[c] == a[c+1]) and (a[c] == '1'):\n",
    "                counter+=1\n",
    "    \n",
    "    print(\"Binary of number {} is {} and number of consecutive occurences in {}\".format(n, bin(int(n))[2::], counter))\n",
    "            \n",
    "if __name__ == '__main__':\n",
    "    n = input()\n",
    "    main()\n",
    "    "
   ]
  },
  {
   "cell_type": "code",
   "execution_count": 91,
   "metadata": {},
   "outputs": [
    {
     "name": "stdin",
     "output_type": "stream",
     "text": [
      " 5\n"
     ]
    },
    {
     "name": "stdout",
     "output_type": "stream",
     "text": [
      "Binary of number 5 is 101 and number of consecutive occurences in 1\n"
     ]
    }
   ],
   "source": [
    "def main():\n",
    "    \n",
    "    \n",
    "    a = list(bin(int(n))[2::])\n",
    "    \n",
    "    counter = 0\n",
    "    \n",
    "    for c, value in list(enumerate(a)):\n",
    "        if c < (len(a)-1):\n",
    "            if (a[c] == '1'):\n",
    "                counter+=1\n",
    "    \n",
    "    print(\"Binary of number {} is {} and number of consecutive occurences in {}\".format(n, bin(int(n))[2::], counter))\n",
    "            \n",
    "if __name__ == '__main__':\n",
    "    n = input()\n",
    "    main()"
   ]
  },
  {
   "cell_type": "code",
   "execution_count": 92,
   "metadata": {},
   "outputs": [
    {
     "data": {
      "text/plain": [
       "'0b110110111'"
      ]
     },
     "execution_count": 92,
     "metadata": {},
     "output_type": "execute_result"
    }
   ],
   "source": [
    "bin(439)"
   ]
  },
  {
   "cell_type": "code",
   "execution_count": 3,
   "metadata": {},
   "outputs": [
    {
     "name": "stdin",
     "output_type": "stream",
     "text": [
      " 439\n"
     ]
    },
    {
     "name": "stdout",
     "output_type": "stream",
     "text": [
      "Binary of number 439 is 110110111 and yhe max number of consecutive occurences of 1 is 3\n",
      "[0, 1, 1, 1, 2]\n"
     ]
    }
   ],
   "source": [
    "#!/bin/python3\n",
    "\n",
    "import math\n",
    "import os\n",
    "import random\n",
    "import re\n",
    "import sys\n",
    "\n",
    "\n",
    "n = input()\n",
    "    \n",
    "a = list(bin(int(n))[2::])\n",
    "    \n",
    "\n",
    "counter = 0\n",
    "c1=[0]\n",
    "    \n",
    "for c, value in list(enumerate(a)):\n",
    "        \n",
    "    if c < (len(a)-1):\n",
    "        if a[c] == '0':\n",
    "            counter =0;\n",
    "        if (a[c] == '1')and(a[c] == a[c+1]):\n",
    "            counter+=1\n",
    "            c1.append(counter)\n",
    "\n",
    "print(\"Binary of number {} is {} and yhe max number of consecutive occurences of 1 is {}\".format(n, bin(int(n))[2::], max(c1)+1))\n",
    "\n",
    "\n"
   ]
  },
  {
   "cell_type": "code",
   "execution_count": 14,
   "metadata": {},
   "outputs": [
    {
     "data": {
      "text/plain": [
       "0"
      ]
     },
     "execution_count": 14,
     "metadata": {},
     "output_type": "execute_result"
    }
   ],
   "source": [
    "counter\n"
   ]
  },
  {
   "cell_type": "code",
   "execution_count": 19,
   "metadata": {},
   "outputs": [
    {
     "data": {
      "text/plain": [
       "2"
      ]
     },
     "execution_count": 19,
     "metadata": {},
     "output_type": "execute_result"
    }
   ],
   "source": [
    "max(c1)"
   ]
  },
  {
   "cell_type": "code",
   "execution_count": null,
   "metadata": {},
   "outputs": [],
   "source": []
  },
  {
   "cell_type": "code",
   "execution_count": 4,
   "metadata": {},
   "outputs": [],
   "source": [
    "import pandas as pd\n"
   ]
  },
  {
   "cell_type": "code",
   "execution_count": null,
   "metadata": {},
   "outputs": [],
   "source": []
  }
 ],
 "metadata": {
  "kernelspec": {
   "display_name": "Python 3",
   "language": "python",
   "name": "python3"
  },
  "language_info": {
   "codemirror_mode": {
    "name": "ipython",
    "version": 3
   },
   "file_extension": ".py",
   "mimetype": "text/x-python",
   "name": "python",
   "nbconvert_exporter": "python",
   "pygments_lexer": "ipython3",
   "version": "3.7.6"
  }
 },
 "nbformat": 4,
 "nbformat_minor": 4
}
